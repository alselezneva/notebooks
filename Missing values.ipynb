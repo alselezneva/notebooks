{
 "cells": [
  {
   "cell_type": "code",
   "execution_count": 1,
   "id": "ce4a7bcd",
   "metadata": {},
   "outputs": [
    {
     "data": {
      "application/javascript": [
       "$.getScript('https://kmahelona.github.io/ipython_notebook_goodies/ipython_notebook_toc.js')\n"
      ],
      "text/plain": [
       "<IPython.core.display.Javascript object>"
      ]
     },
     "metadata": {},
     "output_type": "display_data"
    }
   ],
   "source": [
    "%%javascript\n",
    "$.getScript('https://kmahelona.github.io/ipython_notebook_goodies/ipython_notebook_toc.js')"
   ]
  },
  {
   "cell_type": "markdown",
   "id": "3fee3fd3",
   "metadata": {},
   "source": [
    "<h2 id=\"tocheading\">Table of Contents</h2>\n",
    "<div id=\"toc\"></div>"
   ]
  },
  {
   "cell_type": "markdown",
   "id": "8c07be54",
   "metadata": {},
   "source": [
    " "
   ]
  },
  {
   "cell_type": "markdown",
   "id": "f8d30a4a",
   "metadata": {},
   "source": [
    "## Цель ресерча"
   ]
  },
  {
   "cell_type": "markdown",
   "id": "33baac3d",
   "metadata": {},
   "source": [
    "Главная цель этого ресерча - познакомиться с алгоритмами заполнения пропусков и оценить, как хорошо они восстанавливают данные. Пропущенные значения в датасете генерируются искусственно и рандомно - MSAR (без связи с каким либо известным\\неизвестным фактором). После восстановленние на этих данных строится классификация. "
   ]
  },
  {
   "cell_type": "markdown",
   "id": "986621a1",
   "metadata": {},
   "source": [
    " "
   ]
  },
  {
   "cell_type": "markdown",
   "id": "b0631a0b",
   "metadata": {},
   "source": [
    "## Загрузка библиотек"
   ]
  },
  {
   "cell_type": "markdown",
   "id": "0121da69",
   "metadata": {},
   "source": [
    "    !pip install scikit-learn==0.22.2.post1"
   ]
  },
  {
   "cell_type": "markdown",
   "id": "38d254d8",
   "metadata": {},
   "source": [
    "    !pip install missingno"
   ]
  },
  {
   "cell_type": "code",
   "execution_count": 2,
   "id": "a468bc2d",
   "metadata": {},
   "outputs": [
    {
     "name": "stderr",
     "output_type": "stream",
     "text": [
      "/home/alexandra/anaconda3/lib/python3.9/site-packages/sklearn/utils/deprecation.py:144: FutureWarning: The sklearn.neighbors.base module is  deprecated in version 0.22 and will be removed in version 0.24. The corresponding classes / functions should instead be imported from sklearn.neighbors. Anything that cannot be imported from sklearn.neighbors is now part of the private API.\n",
      "  warnings.warn(message, FutureWarning)\n"
     ]
    }
   ],
   "source": [
    "from missingpy import MissForest\n",
    "\n",
    "import warnings\n",
    "warnings.filterwarnings(\"ignore\", category=FutureWarning)"
   ]
  },
  {
   "cell_type": "markdown",
   "id": "d1bc0c54",
   "metadata": {},
   "source": [
    " "
   ]
  },
  {
   "cell_type": "code",
   "execution_count": 3,
   "id": "10b1d453",
   "metadata": {},
   "outputs": [],
   "source": [
    "import pandas as pd \n",
    "import numpy as np \n",
    "\n",
    "import seaborn as sns\n",
    "import matplotlib as plt \n",
    "%matplotlib inline\n",
    "\n",
    "import statistics  \n",
    "\n",
    "from tqdm import tqdm\n",
    "\n",
    "from itertools import product"
   ]
  },
  {
   "cell_type": "markdown",
   "id": "4d597a00",
   "metadata": {},
   "source": [
    " "
   ]
  },
  {
   "cell_type": "code",
   "execution_count": 4,
   "id": "2f70fb39",
   "metadata": {},
   "outputs": [],
   "source": [
    "from sklearn import tree\n",
    "from sklearn import metrics\n",
    "\n",
    "from sklearn.model_selection import train_test_split \n",
    "from sklearn.model_selection import GridSearchCV\n",
    "\n",
    "from sklearn.tree import DecisionTreeClassifier\n",
    "\n",
    "from sklearn.metrics import confusion_matrix\n",
    "from sklearn.metrics import ConfusionMatrixDisplay\n",
    "from sklearn.metrics import mean_absolute_error\n",
    "\n",
    "from sklearn.impute import KNNImputer"
   ]
  },
  {
   "cell_type": "markdown",
   "id": "20e5b560",
   "metadata": {},
   "source": [
    "    !sudo apt-get update\n",
    "    !sudo apt-get install graphviz\n",
    "    !sudo apt --fix-broken install\n",
    "    !pip install graphviz"
   ]
  },
  {
   "cell_type": "code",
   "execution_count": 5,
   "id": "8c6ec4cf",
   "metadata": {},
   "outputs": [
    {
     "data": {
      "text/html": [
       "<style>svg{width:40% !important; height: 60% !important;}</style>"
      ],
      "text/plain": [
       "<IPython.core.display.HTML object>"
      ]
     },
     "execution_count": 5,
     "metadata": {},
     "output_type": "execute_result"
    }
   ],
   "source": [
    "from IPython.display import SVG\n",
    "from graphviz import Source\n",
    "from IPython.display import display\n",
    "\n",
    "from IPython.display import HTML\n",
    "style = \"<style>svg{width:40% !important; height: 60% !important;}</style>\"\n",
    "HTML(style)"
   ]
  },
  {
   "cell_type": "markdown",
   "id": "f2aae9f4",
   "metadata": {},
   "source": [
    " "
   ]
  },
  {
   "cell_type": "markdown",
   "id": "42e0b995",
   "metadata": {},
   "source": [
    "## Загрузка датасета "
   ]
  },
  {
   "cell_type": "markdown",
   "id": "3395f188",
   "metadata": {},
   "source": [
    "    https://www.kaggle.com/datasets/ruchi798/data-science-job-salaries"
   ]
  },
  {
   "cell_type": "code",
   "execution_count": 6,
   "id": "817501c0",
   "metadata": {},
   "outputs": [
    {
     "data": {
      "text/plain": [
       "(607, 12)"
      ]
     },
     "execution_count": 6,
     "metadata": {},
     "output_type": "execute_result"
    }
   ],
   "source": [
    "X = pd.read_csv('ds_salaries.csv')\n",
    "X.shape"
   ]
  },
  {
   "cell_type": "markdown",
   "id": "006d0e97",
   "metadata": {},
   "source": [
    " "
   ]
  },
  {
   "cell_type": "markdown",
   "id": "7c350464",
   "metadata": {},
   "source": [
    "## Подготовка датасета "
   ]
  },
  {
   "cell_type": "code",
   "execution_count": 7,
   "id": "39c576dd",
   "metadata": {},
   "outputs": [
    {
     "data": {
      "text/plain": [
       "(607, 12)"
      ]
     },
     "execution_count": 7,
     "metadata": {},
     "output_type": "execute_result"
    }
   ],
   "source": [
    "X.drop_duplicates().shape"
   ]
  },
  {
   "cell_type": "code",
   "execution_count": 8,
   "id": "76e78b83",
   "metadata": {},
   "outputs": [
    {
     "data": {
      "text/plain": [
       "Unnamed: 0            0\n",
       "work_year             0\n",
       "experience_level      0\n",
       "employment_type       0\n",
       "job_title             0\n",
       "salary                0\n",
       "salary_currency       0\n",
       "salary_in_usd         0\n",
       "employee_residence    0\n",
       "remote_ratio          0\n",
       "company_location      0\n",
       "company_size          0\n",
       "dtype: int64"
      ]
     },
     "execution_count": 8,
     "metadata": {},
     "output_type": "execute_result"
    }
   ],
   "source": [
    "X.isna().sum()"
   ]
  },
  {
   "cell_type": "markdown",
   "id": "e93dccca",
   "metadata": {},
   "source": [
    "Упрощаем нашу задачу - оставляем только 2 класса (\"младшие\" - Junior и Middle, \"старшие\" - Senior и Expert) "
   ]
  },
  {
   "cell_type": "code",
   "execution_count": 9,
   "id": "52831504",
   "metadata": {},
   "outputs": [],
   "source": [
    "Y = X['experience_level'].map({'EX': '1', 'EN': '0', 'SE': '1', 'MI': '0'})"
   ]
  },
  {
   "cell_type": "code",
   "execution_count": 10,
   "id": "bded4063",
   "metadata": {},
   "outputs": [
    {
     "data": {
      "text/plain": [
       "1    306\n",
       "0    301\n",
       "Name: experience_level, dtype: int64"
      ]
     },
     "execution_count": 10,
     "metadata": {},
     "output_type": "execute_result"
    }
   ],
   "source": [
    "Y.value_counts()"
   ]
  },
  {
   "cell_type": "code",
   "execution_count": 11,
   "id": "6f6cf04c",
   "metadata": {},
   "outputs": [],
   "source": [
    "X['location_IsMatched'] = (X['company_location'] != X['employee_residence']).apply(int)\n",
    "\n",
    "X['company_size'] = X['company_size'].map({'S': 0, 'M': 50, 'L': 250})\n",
    "\n",
    "X = pd.concat([X, pd.get_dummies(X['employment_type'], prefix='employment_type')], axis=1)"
   ]
  },
  {
   "cell_type": "code",
   "execution_count": 12,
   "id": "c6a791c3",
   "metadata": {},
   "outputs": [],
   "source": [
    "del X['employee_residence']\n",
    "del X['company_location']\n",
    "del X['Unnamed: 0'] \n",
    "del X['salary_currency']\n",
    "del X['salary']\n",
    "del X['experience_level'] \n",
    "del X['job_title']\n",
    "del X['employment_type']"
   ]
  },
  {
   "cell_type": "code",
   "execution_count": 13,
   "id": "41a8da0e",
   "metadata": {
    "scrolled": true
   },
   "outputs": [
    {
     "data": {
      "text/html": [
       "<div>\n",
       "<style scoped>\n",
       "    .dataframe tbody tr th:only-of-type {\n",
       "        vertical-align: middle;\n",
       "    }\n",
       "\n",
       "    .dataframe tbody tr th {\n",
       "        vertical-align: top;\n",
       "    }\n",
       "\n",
       "    .dataframe thead th {\n",
       "        text-align: right;\n",
       "    }\n",
       "</style>\n",
       "<table border=\"1\" class=\"dataframe\">\n",
       "  <thead>\n",
       "    <tr style=\"text-align: right;\">\n",
       "      <th></th>\n",
       "      <th>work_year</th>\n",
       "      <th>salary_in_usd</th>\n",
       "      <th>remote_ratio</th>\n",
       "      <th>company_size</th>\n",
       "      <th>location_IsMatched</th>\n",
       "      <th>employment_type_CT</th>\n",
       "      <th>employment_type_FL</th>\n",
       "      <th>employment_type_FT</th>\n",
       "      <th>employment_type_PT</th>\n",
       "    </tr>\n",
       "  </thead>\n",
       "  <tbody>\n",
       "    <tr>\n",
       "      <th>0</th>\n",
       "      <td>2020</td>\n",
       "      <td>79833</td>\n",
       "      <td>0</td>\n",
       "      <td>250</td>\n",
       "      <td>0</td>\n",
       "      <td>0</td>\n",
       "      <td>0</td>\n",
       "      <td>1</td>\n",
       "      <td>0</td>\n",
       "    </tr>\n",
       "    <tr>\n",
       "      <th>1</th>\n",
       "      <td>2020</td>\n",
       "      <td>260000</td>\n",
       "      <td>0</td>\n",
       "      <td>0</td>\n",
       "      <td>0</td>\n",
       "      <td>0</td>\n",
       "      <td>0</td>\n",
       "      <td>1</td>\n",
       "      <td>0</td>\n",
       "    </tr>\n",
       "    <tr>\n",
       "      <th>2</th>\n",
       "      <td>2020</td>\n",
       "      <td>109024</td>\n",
       "      <td>50</td>\n",
       "      <td>50</td>\n",
       "      <td>0</td>\n",
       "      <td>0</td>\n",
       "      <td>0</td>\n",
       "      <td>1</td>\n",
       "      <td>0</td>\n",
       "    </tr>\n",
       "  </tbody>\n",
       "</table>\n",
       "</div>"
      ],
      "text/plain": [
       "   work_year  salary_in_usd  remote_ratio  company_size  location_IsMatched  \\\n",
       "0       2020          79833             0           250                   0   \n",
       "1       2020         260000             0             0                   0   \n",
       "2       2020         109024            50            50                   0   \n",
       "\n",
       "   employment_type_CT  employment_type_FL  employment_type_FT  \\\n",
       "0                   0                   0                   1   \n",
       "1                   0                   0                   1   \n",
       "2                   0                   0                   1   \n",
       "\n",
       "   employment_type_PT  \n",
       "0                   0  \n",
       "1                   0  \n",
       "2                   0  "
      ]
     },
     "execution_count": 13,
     "metadata": {},
     "output_type": "execute_result"
    }
   ],
   "source": [
    "X[:3]"
   ]
  },
  {
   "cell_type": "markdown",
   "id": "2e4ad507",
   "metadata": {},
   "source": [
    " "
   ]
  },
  {
   "cell_type": "code",
   "execution_count": 14,
   "id": "69f5bfd5",
   "metadata": {},
   "outputs": [
    {
     "name": "stdout",
     "output_type": "stream",
     "text": [
      "Медиана по всем наблюдениям: 101570.0\n",
      "Медиана по \"младшим\": 70912.0\n",
      "Медиана по \"старшим:\" 137067.5\n"
     ]
    }
   ],
   "source": [
    "print('Медиана по всем наблюдениям:', X['salary_in_usd'].median())\n",
    "print('Медиана по \"младшим\":', X[Y == '0']['salary_in_usd'].median())\n",
    "print('Медиана по \"старшим:\"', X[Y == '1']['salary_in_usd'].median())"
   ]
  },
  {
   "cell_type": "code",
   "execution_count": 15,
   "id": "6448a239",
   "metadata": {},
   "outputs": [
    {
     "data": {
      "image/png": "[encoded data removed]",
      "text/plain": [
       "<Figure size 432x288 with 1 Axes>"
      ]
     },
     "metadata": {
      "needs_background": "light"
     },
     "output_type": "display_data"
    }
   ],
   "source": [
    "ax = sns.boxplot(x=Y, y=X['salary_in_usd'])"
   ]
  },
  {
   "cell_type": "markdown",
   "id": "2c5e982c",
   "metadata": {},
   "source": [
    " "
   ]
  },
  {
   "cell_type": "markdown",
   "id": "8f5611d0",
   "metadata": {},
   "source": [
    " "
   ]
  },
  {
   "cell_type": "markdown",
   "id": "a403bc2e",
   "metadata": {},
   "source": [
    "## Функции "
   ]
  },
  {
   "cell_type": "markdown",
   "id": "39e2c291",
   "metadata": {},
   "source": [
    "### Подбор гиперпараметра max_depth  для модели DecisionTreeClassifier с помощью GridSearchCV"
   ]
  },
  {
   "cell_type": "code",
   "execution_count": 16,
   "id": "dbb70121",
   "metadata": {},
   "outputs": [],
   "source": [
    "def best_decision_tree_classifier(X_train, X_test, y_train, y_test, inform=True): \n",
    "    \n",
    "    model = DecisionTreeClassifier(random_state=42)\n",
    "    \n",
    "    params_set = {\n",
    "        'max_depth': [2, 3, 4, 5, 6, 7, 8, 9, 10],\n",
    "    }\n",
    "\n",
    "    grid_CV = GridSearchCV(\n",
    "        estimator=model,\n",
    "        param_grid=params_set,\n",
    "        scoring='accuracy', \n",
    "        cv=5,\n",
    "        n_jobs=-1\n",
    "    )\n",
    "\n",
    "    grid_CV.fit(X_train, y_train)\n",
    "    \n",
    "    best_model = grid_CV.best_estimator_ \n",
    "    max_depth = grid_CV.best_params_['max_depth']\n",
    "    train_score = grid_CV.best_score_\n",
    "    test_score = grid_CV.best_estimator_.score(X_test,y_test)\n",
    "    importance = grid_CV.best_estimator_.feature_importances_[1]# нужно сделать универсально \n",
    "    \n",
    "    if inform:\n",
    "        model_info(grid_CV)\n",
    "\n",
    "    return grid_CV, train_score, test_score, max_depth, importance\n"
   ]
  },
  {
   "cell_type": "markdown",
   "id": "ebecc4ea",
   "metadata": {},
   "source": [
    " "
   ]
  },
  {
   "cell_type": "markdown",
   "id": "43c05279",
   "metadata": {},
   "source": [
    "### Отображение результатов результатов модели "
   ]
  },
  {
   "cell_type": "code",
   "execution_count": 17,
   "id": "4f419a06",
   "metadata": {},
   "outputs": [],
   "source": [
    "def model_info(gsv):\n",
    "    \n",
    "    array_proba = gsv.best_estimator_.predict_proba(X_test)\n",
    "    p = (array_proba > 0.8).sum() / array_proba.size\n",
    "    \n",
    "    y_pred_train = gsv.best_estimator_.predict(X_train)\n",
    "    y_pred_test = gsv.best_estimator_.predict(X_test)\n",
    "    \n",
    "    report = metrics.classification_report(y_pred_test, y_test)\n",
    "    \n",
    "    print(f'Лучшие значения гиперпараметров: {gsv.best_params_}')\n",
    "    print(f'Лучшая метрика на train: {gsv.best_score_:.4f}')\n",
    "    print(f'Лучшая метрика на test: {gsv.best_estimator_.score(X_test,y_test):.4f} \\n')\n",
    "    print(f'Доля наблюдений, для которых есть класс, вероятность принадлежать которому больше 0.8: {p:.4f} \\n')\n",
    "    print(metrics.classification_report(y_pred_test, y_test))\n",
    "\n",
    "    cm = confusion_matrix(y_test, y_pred_test, labels=gsv.best_estimator_.classes_)\n",
    "    disp = ConfusionMatrixDisplay(confusion_matrix=cm, display_labels=gsv.best_estimator_.classes_)\n",
    "    disp.plot()\n",
    "    "
   ]
  },
  {
   "cell_type": "markdown",
   "id": "108f04f7",
   "metadata": {},
   "source": [
    " "
   ]
  },
  {
   "cell_type": "markdown",
   "id": "6a7a8ed3",
   "metadata": {},
   "source": [
    "### Работа со сводной таблицей "
   ]
  },
  {
   "cell_type": "code",
   "execution_count": 18,
   "id": "1a13072e",
   "metadata": {},
   "outputs": [],
   "source": [
    "def create_empty_table(): \n",
    "    cols = ['experiment', '% nan', 'nan_mae', 'nan_mae_std', 'train_score', 'train_score_std', \n",
    "            'test_score', 'test_score_std', 'max depth', 'importance', 'importance_std']\n",
    "    return pd.DataFrame(columns=cols)\n"
   ]
  },
  {
   "cell_type": "code",
   "execution_count": 19,
   "id": "475e3c46",
   "metadata": {},
   "outputs": [],
   "source": [
    "def add_row(df, exp, nan, nan_mae, nan_mae_std, \n",
    "            train_score, train_score_std, test_score, test_score_std, \n",
    "            max_depth, importance, importance_std): \n",
    "    \n",
    "    new_row = {'experiment': exp, \n",
    "               '% nan': nan, \n",
    "               'nan_mae': nan_mae, \n",
    "               'nan_mae_std': nan_mae_std, \n",
    "               'train_score': train_score, \n",
    "               'train_score_std': train_score_std, \n",
    "               'test_score': test_score, \n",
    "               'test_score_std': test_score_std, \n",
    "               'max depth': max_depth, \n",
    "               'importance': importance,\n",
    "               'importance_std': importance_std\n",
    "              }\n",
    "    \n",
    "    return df.append(new_row, ignore_index=True)\n"
   ]
  },
  {
   "cell_type": "markdown",
   "id": "b6f1066b",
   "metadata": {},
   "source": [
    " "
   ]
  },
  {
   "cell_type": "markdown",
   "id": "aa5aad19",
   "metadata": {},
   "source": [
    "### Генерация пропущенных значений "
   ]
  },
  {
   "cell_type": "code",
   "execution_count": 20,
   "id": "10c705c9",
   "metadata": {},
   "outputs": [],
   "source": [
    "def add_nan_values(df, col, nan_percent, random_state):\n",
    "    \n",
    "    import random\n",
    "    \n",
    "    rng = np.random.RandomState(random_state)\n",
    "\n",
    "    none_values = [(rng.randint(0, df.shape[0] - 1)) for i in range(int(df.shape[0] * nan_percent))]\n",
    "    \n",
    "    df_copy = df.copy()\n",
    "    df_copy.loc[df_copy.index[none_values], col] = np.nan\n",
    "    \n",
    "    return df_copy\n"
   ]
  },
  {
   "cell_type": "markdown",
   "id": "2b7ca534",
   "metadata": {},
   "source": [
    " "
   ]
  },
  {
   "cell_type": "markdown",
   "id": "ef192fc6",
   "metadata": {},
   "source": [
    "### Основная функция  "
   ]
  },
  {
   "cell_type": "markdown",
   "id": "b5df732a",
   "metadata": {},
   "source": [
    "При оценке алгоритмов хочется оценивать и их погрешность, которая возникает из-за случайности, поэтому здесь представлен цикл по random state. \n",
    "\n",
    "В рамках каждого цикла в колонку salary_in_usd случайным образом добавляется выбранное кол-во нанов, а выбранный алгоритм их заполняет. Затем на основе восстановленных данных проводится подбор гипарпараметров (в нашем случае только одного, max_depth) для модели DecisionTreeClassifier. Все важные скоры сохраняются. На выходе из цикла мы получаем строку в сводной таблице, в которой представлены лучшие скоры и их усреднения по всем random state (погрешность). \n"
   ]
  },
  {
   "cell_type": "code",
   "execution_count": 21,
   "id": "cc21003c",
   "metadata": {},
   "outputs": [],
   "source": [
    "def exp_loop(X_train, X_test, y_train, y_test, table, exp_name, nan, algo, n_iter, col='salary_in_usd', inform=True):\n",
    "\n",
    "    exp_dict = {}\n",
    "\n",
    "    for random_state in range(100, 100+n_iter):\n",
    "        \n",
    "        \n",
    "        X_miss = add_nan_values(X_train, col, nan, random_state)\n",
    "        X_algo = algo(X_miss, col)\n",
    "        mae = mean_absolute_error(X_train[col], X_algo[col])\n",
    "\n",
    "        \n",
    "        res = best_decision_tree_classifier(X_algo, X_test, y_train, y_test, inform=False)\n",
    "\n",
    "        exp_dict[random_state] = res + (round(mae), )\n",
    "        \n",
    "    best_key = max(exp_dict, key=lambda x: exp_dict.get(x)[2]) # use test score\n",
    "    best_res = exp_dict[best_key]\n",
    "\n",
    "    table = add_row(\n",
    "        table, exp_name, \n",
    "        nan*100, best_res[5], round(statistics.stdev([i[5] for i in exp_dict.values()])), # nan \n",
    "        best_res[1], statistics.stdev([i[1] for i in exp_dict.values()]), # test score\n",
    "        best_res[2], statistics.stdev([i[2] for i in exp_dict.values()]), # test score\n",
    "        best_res[3], # max depth\n",
    "        best_res[4], statistics.stdev([i[4] for i in exp_dict.values()])) # importance\n",
    "                    \n",
    "    if inform:\n",
    "        model_info(exp_dict[best_key][0])\n",
    "    \n",
    "    return table\n"
   ]
  },
  {
   "cell_type": "markdown",
   "id": "41031ee2",
   "metadata": {},
   "source": [
    " "
   ]
  },
  {
   "cell_type": "markdown",
   "id": "909f8b60",
   "metadata": {},
   "source": [
    "### Алгоритмы заполнения пропущенных значений"
   ]
  },
  {
   "cell_type": "markdown",
   "id": "d248af43",
   "metadata": {},
   "source": [
    "#### Median"
   ]
  },
  {
   "cell_type": "code",
   "execution_count": 22,
   "id": "839d143d",
   "metadata": {},
   "outputs": [],
   "source": [
    "def impute_with_median(df, col): \n",
    "    df_copy = df.copy()\n",
    "    df_copy[col] = df_copy[col].fillna(round(df_copy[col].median()))\n",
    "    return df_copy\n"
   ]
  },
  {
   "cell_type": "markdown",
   "id": "accb4abd",
   "metadata": {},
   "source": [
    "#### Значение -1"
   ]
  },
  {
   "cell_type": "code",
   "execution_count": 23,
   "id": "3e72bb66",
   "metadata": {},
   "outputs": [],
   "source": [
    "def impute_with_fixed_value(df, col): \n",
    "    df_copy = df.copy()\n",
    "    df_copy[col] = df_copy[col].fillna(-1)\n",
    "    return df_copy\n"
   ]
  },
  {
   "cell_type": "markdown",
   "id": "788d5e88",
   "metadata": {},
   "source": [
    "#### Random"
   ]
  },
  {
   "cell_type": "markdown",
   "id": "4ace015f",
   "metadata": {},
   "source": [
    "Заполнение рандомными значениями, которые уже были в датасете"
   ]
  },
  {
   "cell_type": "code",
   "execution_count": 24,
   "id": "15bf8b5d",
   "metadata": {},
   "outputs": [],
   "source": [
    "def impute_with_random_value(df, col): \n",
    "    df_copy = df.copy()\n",
    "    \n",
    "    n_nans = df_copy[col].isna().sum() \n",
    "    \n",
    "    replace = df_copy.loc[df_copy[col].notna(), col].sample(n_nans, replace=True).to_list()\n",
    "\n",
    "    df_copy.loc[df_copy[col].isna(), col] = replace\n",
    "\n",
    "    return df_copy\n"
   ]
  },
  {
   "cell_type": "markdown",
   "id": "7efe35d7",
   "metadata": {},
   "source": [
    "#### Hot desk"
   ]
  },
  {
   "cell_type": "code",
   "execution_count": 25,
   "id": "0bcb13ad",
   "metadata": {},
   "outputs": [],
   "source": [
    "def impute_hot(df, col): \n",
    "    df_copy = df.copy()\n",
    "    df_copy.fillna(method='ffill', inplace=True)\n",
    "    df_copy.fillna(method='bfill', inplace=True)\n",
    "    return df_copy\n"
   ]
  },
  {
   "cell_type": "markdown",
   "id": "1811f8cb",
   "metadata": {},
   "source": [
    "#### KNN"
   ]
  },
  {
   "cell_type": "code",
   "execution_count": 26,
   "id": "f0ea62e0",
   "metadata": {},
   "outputs": [],
   "source": [
    "def impute_knn(df, col): \n",
    "    \n",
    "    df_copy = df.copy()\n",
    "    \n",
    "    imputer = KNNImputer(n_neighbors=2)\n",
    "\n",
    "    df_copy[col] = imputer.fit_transform(df_copy[[col]])\n",
    "    \n",
    "    return df_copy\n"
   ]
  },
  {
   "cell_type": "markdown",
   "id": "bdb600ce",
   "metadata": {},
   "source": [
    "#### Random Forest"
   ]
  },
  {
   "cell_type": "code",
   "execution_count": 27,
   "id": "ee6239f3",
   "metadata": {},
   "outputs": [],
   "source": [
    "def impute_forest(df, col): \n",
    "    \n",
    "    df_copy = df.copy()\n",
    "    \n",
    "    imputer = MissForest(max_iter=100, random_state=42, n_jobs=-1,)\n",
    "    \n",
    "    df_copy = imputer.fit_transform(df_copy)\n",
    "    \n",
    "    return pd.DataFrame(df_copy, columns=df.columns)\n"
   ]
  },
  {
   "cell_type": "markdown",
   "id": "d0e5bc60",
   "metadata": {},
   "source": [
    " "
   ]
  },
  {
   "cell_type": "markdown",
   "id": "94797547",
   "metadata": {},
   "source": [
    " "
   ]
  },
  {
   "cell_type": "markdown",
   "id": "f34e937d",
   "metadata": {},
   "source": [
    "## Решение"
   ]
  },
  {
   "cell_type": "code",
   "execution_count": 28,
   "id": "8c20aefd",
   "metadata": {},
   "outputs": [
    {
     "data": {
      "text/html": [
       "<div>\n",
       "<style scoped>\n",
       "    .dataframe tbody tr th:only-of-type {\n",
       "        vertical-align: middle;\n",
       "    }\n",
       "\n",
       "    .dataframe tbody tr th {\n",
       "        vertical-align: top;\n",
       "    }\n",
       "\n",
       "    .dataframe thead th {\n",
       "        text-align: right;\n",
       "    }\n",
       "</style>\n",
       "<table border=\"1\" class=\"dataframe\">\n",
       "  <thead>\n",
       "    <tr style=\"text-align: right;\">\n",
       "      <th></th>\n",
       "      <th>experiment</th>\n",
       "      <th>% nan</th>\n",
       "      <th>nan_mae</th>\n",
       "      <th>nan_mae_std</th>\n",
       "      <th>train_score</th>\n",
       "      <th>train_score_std</th>\n",
       "      <th>test_score</th>\n",
       "      <th>test_score_std</th>\n",
       "      <th>max depth</th>\n",
       "      <th>importance</th>\n",
       "      <th>importance_std</th>\n",
       "    </tr>\n",
       "  </thead>\n",
       "  <tbody>\n",
       "  </tbody>\n",
       "</table>\n",
       "</div>"
      ],
      "text/plain": [
       "Empty DataFrame\n",
       "Columns: [experiment, % nan, nan_mae, nan_mae_std, train_score, train_score_std, test_score, test_score_std, max depth, importance, importance_std]\n",
       "Index: []"
      ]
     },
     "execution_count": 28,
     "metadata": {},
     "output_type": "execute_result"
    }
   ],
   "source": [
    "table = create_empty_table()\n",
    "table"
   ]
  },
  {
   "cell_type": "markdown",
   "id": "c3e06222",
   "metadata": {},
   "source": [
    " "
   ]
  },
  {
   "cell_type": "code",
   "execution_count": 29,
   "id": "f1ae89f6",
   "metadata": {},
   "outputs": [],
   "source": [
    "X_train, X_test, y_train, y_test = train_test_split(X, Y, test_size=0.33, random_state=20082022)"
   ]
  },
  {
   "cell_type": "markdown",
   "id": "a16b1fd5",
   "metadata": {},
   "source": [
    " "
   ]
  },
  {
   "cell_type": "markdown",
   "id": "8de371b2",
   "metadata": {},
   "source": [
    "### Baseline"
   ]
  },
  {
   "cell_type": "markdown",
   "id": "9c6f145c",
   "metadata": {},
   "source": [
    "Для оценки качества классификации, обученной на восстановленных данных, нужно некоторое \"нулевое\" решение"
   ]
  },
  {
   "cell_type": "code",
   "execution_count": 30,
   "id": "30a33660",
   "metadata": {},
   "outputs": [
    {
     "name": "stdout",
     "output_type": "stream",
     "text": [
      "Лучшие значения гиперпараметров: {'max_depth': 4}\n",
      "Лучшая метрика на train: 0.7464\n",
      "Лучшая метрика на test: 0.7363 \n",
      "\n",
      "Доля наблюдений, для которых есть класс, вероятность принадлежать которому больше 0.8: 0.2836 \n",
      "\n",
      "              precision    recall  f1-score   support\n",
      "\n",
      "           0       0.77      0.72      0.75       109\n",
      "           1       0.70      0.75      0.72        92\n",
      "\n",
      "    accuracy                           0.74       201\n",
      "   macro avg       0.74      0.74      0.74       201\n",
      "weighted avg       0.74      0.74      0.74       201\n",
      "\n"
     ]
    },
    {
     "data": {
      "image/png": "[encoded data removed]",
      "text/plain": [
       "<Figure size 432x288 with 2 Axes>"
      ]
     },
     "metadata": {
      "needs_background": "light"
     },
     "output_type": "display_data"
    }
   ],
   "source": [
    "res = best_decision_tree_classifier(X_train, X_test, y_train, y_test)\n",
    "\n",
    "table = add_row(table, 'full dataset', 0, 0, 0, res[1], 0, res[2], 0, res[3], res[4], 0)"
   ]
  },
  {
   "cell_type": "code",
   "execution_count": 31,
   "id": "d462dab0",
   "metadata": {},
   "outputs": [],
   "source": [
    "graph = Source(\n",
    "    tree.export_graphviz(\n",
    "        res[0].best_estimator_, \n",
    "        out_file=None, \n",
    "        feature_names = list(X),\n",
    "        class_names= ['0', '1'],\n",
    "        filled = True \n",
    "    )\n",
    ") "
   ]
  },
  {
   "cell_type": "code",
   "execution_count": 32,
   "id": "832ccbba",
   "metadata": {
    "scrolled": false
   },
   "outputs": [
    {
     "data": {
      "image/svg+xml": [
       "<svg xmlns=\"http://www.w3.org/2000/svg\" xmlns:xlink=\"http://www.w3.org/1999/xlink\" width=\"1522pt\" height=\"552pt\" viewBox=\"0.00 0.00 1521.50 552.00\">\n",
       "<g id=\"graph0\" class=\"graph\" transform=\"scale(1 1) rotate(0) translate(4 548)\">\n",
       "<title>Tree</title>\n",
       "<polygon fill=\"white\" stroke=\"transparent\" points=\"-4,4 -4,-548 1517.5,-548 1517.5,4 -4,4\"/>\n",
       "<!-- 0 -->\n",
       "<g id=\"node1\" class=\"node\">\n",
       "<title>0</title>\n",
       "<polygon fill=\"#f7fbfe\" stroke=\"black\" points=\"802,-544 598,-544 598,-461 802,-461 802,-544\"/>\n",
       "<text text-anchor=\"middle\" x=\"700\" y=\"-528.8\" font-family=\"Times,serif\" font-size=\"14.00\">salary_in_usd &lt;= 93288.5</text>\n",
       "<text text-anchor=\"middle\" x=\"700\" y=\"-513.8\" font-family=\"Times,serif\" font-size=\"14.00\">gini = 0.5</text>\n",
       "<text text-anchor=\"middle\" x=\"700\" y=\"-498.8\" font-family=\"Times,serif\" font-size=\"14.00\">samples = 406</text>\n",
       "<text text-anchor=\"middle\" x=\"700\" y=\"-483.8\" font-family=\"Times,serif\" font-size=\"14.00\">value = [199, 207]</text>\n",
       "<text text-anchor=\"middle\" x=\"700\" y=\"-468.8\" font-family=\"Times,serif\" font-size=\"14.00\">class = 1</text>\n",
       "</g>\n",
       "<!-- 1 -->\n",
       "<g id=\"node2\" class=\"node\">\n",
       "<title>1</title>\n",
       "<polygon fill=\"#eda775\" stroke=\"black\" points=\"609,-425 405,-425 405,-342 609,-342 609,-425\"/>\n",
       "<text text-anchor=\"middle\" x=\"507\" y=\"-409.8\" font-family=\"Times,serif\" font-size=\"14.00\">salary_in_usd &lt;= 59551.0</text>\n",
       "<text text-anchor=\"middle\" x=\"507\" y=\"-394.8\" font-family=\"Times,serif\" font-size=\"14.00\">gini = 0.358</text>\n",
       "<text text-anchor=\"middle\" x=\"507\" y=\"-379.8\" font-family=\"Times,serif\" font-size=\"14.00\">samples = 180</text>\n",
       "<text text-anchor=\"middle\" x=\"507\" y=\"-364.8\" font-family=\"Times,serif\" font-size=\"14.00\">value = [138, 42]</text>\n",
       "<text text-anchor=\"middle\" x=\"507\" y=\"-349.8\" font-family=\"Times,serif\" font-size=\"14.00\">class = 0</text>\n",
       "</g>\n",
       "<!-- 0&#45;&gt;1 -->\n",
       "<g id=\"edge1\" class=\"edge\">\n",
       "<title>0-&gt;1</title>\n",
       "<path fill=\"none\" stroke=\"black\" d=\"M633.04,-460.91C616.72,-451.02 599.16,-440.37 582.47,-430.25\"/>\n",
       "<polygon fill=\"black\" stroke=\"black\" points=\"584.21,-427.21 573.84,-425.02 580.58,-433.2 584.21,-427.21\"/>\n",
       "<text text-anchor=\"middle\" x=\"579.79\" y=\"-445.6\" font-family=\"Times,serif\" font-size=\"14.00\">True</text>\n",
       "</g>\n",
       "<!-- 12 -->\n",
       "<g id=\"node13\" class=\"node\">\n",
       "<title>12</title>\n",
       "<polygon fill=\"#82c1ef\" stroke=\"black\" points=\"1021.5,-425 808.5,-425 808.5,-342 1021.5,-342 1021.5,-425\"/>\n",
       "<text text-anchor=\"middle\" x=\"915\" y=\"-409.8\" font-family=\"Times,serif\" font-size=\"14.00\">salary_in_usd &lt;= 131560.0</text>\n",
       "<text text-anchor=\"middle\" x=\"915\" y=\"-394.8\" font-family=\"Times,serif\" font-size=\"14.00\">gini = 0.394</text>\n",
       "<text text-anchor=\"middle\" x=\"915\" y=\"-379.8\" font-family=\"Times,serif\" font-size=\"14.00\">samples = 226</text>\n",
       "<text text-anchor=\"middle\" x=\"915\" y=\"-364.8\" font-family=\"Times,serif\" font-size=\"14.00\">value = [61, 165]</text>\n",
       "<text text-anchor=\"middle\" x=\"915\" y=\"-349.8\" font-family=\"Times,serif\" font-size=\"14.00\">class = 1</text>\n",
       "</g>\n",
       "<!-- 0&#45;&gt;12 -->\n",
       "<g id=\"edge12\" class=\"edge\">\n",
       "<title>0-&gt;12</title>\n",
       "<path fill=\"none\" stroke=\"black\" d=\"M774.59,-460.91C793.02,-450.88 812.88,-440.07 831.69,-429.84\"/>\n",
       "<polygon fill=\"black\" stroke=\"black\" points=\"833.43,-432.88 840.54,-425.02 830.08,-426.73 833.43,-432.88\"/>\n",
       "<text text-anchor=\"middle\" x=\"833.46\" y=\"-445.3\" font-family=\"Times,serif\" font-size=\"14.00\">False</text>\n",
       "</g>\n",
       "<!-- 2 -->\n",
       "<g id=\"node3\" class=\"node\">\n",
       "<title>2</title>\n",
       "<polygon fill=\"#e99558\" stroke=\"black\" points=\"329,-306 125,-306 125,-223 329,-223 329,-306\"/>\n",
       "<text text-anchor=\"middle\" x=\"227\" y=\"-290.8\" font-family=\"Times,serif\" font-size=\"14.00\">salary_in_usd &lt;= 18674.5</text>\n",
       "<text text-anchor=\"middle\" x=\"227\" y=\"-275.8\" font-family=\"Times,serif\" font-size=\"14.00\">gini = 0.234</text>\n",
       "<text text-anchor=\"middle\" x=\"227\" y=\"-260.8\" font-family=\"Times,serif\" font-size=\"14.00\">samples = 96</text>\n",
       "<text text-anchor=\"middle\" x=\"227\" y=\"-245.8\" font-family=\"Times,serif\" font-size=\"14.00\">value = [83, 13]</text>\n",
       "<text text-anchor=\"middle\" x=\"227\" y=\"-230.8\" font-family=\"Times,serif\" font-size=\"14.00\">class = 0</text>\n",
       "</g>\n",
       "<!-- 1&#45;&gt;2 -->\n",
       "<g id=\"edge2\" class=\"edge\">\n",
       "<title>1-&gt;2</title>\n",
       "<path fill=\"none\" stroke=\"black\" d=\"M409.86,-341.91C385.21,-331.61 358.59,-320.49 333.51,-310\"/>\n",
       "<polygon fill=\"black\" stroke=\"black\" points=\"334.55,-306.65 323.97,-306.02 331.85,-313.11 334.55,-306.65\"/>\n",
       "</g>\n",
       "<!-- 7 -->\n",
       "<g id=\"node8\" class=\"node\">\n",
       "<title>7</title>\n",
       "<polygon fill=\"#f3c3a1\" stroke=\"black\" points=\"609,-306 405,-306 405,-223 609,-223 609,-306\"/>\n",
       "<text text-anchor=\"middle\" x=\"507\" y=\"-290.8\" font-family=\"Times,serif\" font-size=\"14.00\">salary_in_usd &lt;= 61383.5</text>\n",
       "<text text-anchor=\"middle\" x=\"507\" y=\"-275.8\" font-family=\"Times,serif\" font-size=\"14.00\">gini = 0.452</text>\n",
       "<text text-anchor=\"middle\" x=\"507\" y=\"-260.8\" font-family=\"Times,serif\" font-size=\"14.00\">samples = 84</text>\n",
       "<text text-anchor=\"middle\" x=\"507\" y=\"-245.8\" font-family=\"Times,serif\" font-size=\"14.00\">value = [55, 29]</text>\n",
       "<text text-anchor=\"middle\" x=\"507\" y=\"-230.8\" font-family=\"Times,serif\" font-size=\"14.00\">class = 0</text>\n",
       "</g>\n",
       "<!-- 1&#45;&gt;7 -->\n",
       "<g id=\"edge7\" class=\"edge\">\n",
       "<title>1-&gt;7</title>\n",
       "<path fill=\"none\" stroke=\"black\" d=\"M507,-341.91C507,-333.65 507,-324.86 507,-316.3\"/>\n",
       "<polygon fill=\"black\" stroke=\"black\" points=\"510.5,-316.02 507,-306.02 503.5,-316.02 510.5,-316.02\"/>\n",
       "</g>\n",
       "<!-- 3 -->\n",
       "<g id=\"node4\" class=\"node\">\n",
       "<title>3</title>\n",
       "<polygon fill=\"#e58139\" stroke=\"black\" points=\"122,-179.5 0,-179.5 0,-111.5 122,-111.5 122,-179.5\"/>\n",
       "<text text-anchor=\"middle\" x=\"61\" y=\"-164.3\" font-family=\"Times,serif\" font-size=\"14.00\">gini = 0.0</text>\n",
       "<text text-anchor=\"middle\" x=\"61\" y=\"-149.3\" font-family=\"Times,serif\" font-size=\"14.00\">samples = 20</text>\n",
       "<text text-anchor=\"middle\" x=\"61\" y=\"-134.3\" font-family=\"Times,serif\" font-size=\"14.00\">value = [20, 0]</text>\n",
       "<text text-anchor=\"middle\" x=\"61\" y=\"-119.3\" font-family=\"Times,serif\" font-size=\"14.00\">class = 0</text>\n",
       "</g>\n",
       "<!-- 2&#45;&gt;3 -->\n",
       "<g id=\"edge3\" class=\"edge\">\n",
       "<title>2-&gt;3</title>\n",
       "<path fill=\"none\" stroke=\"black\" d=\"M169.41,-222.91C152.19,-210.77 133.35,-197.49 116.28,-185.46\"/>\n",
       "<polygon fill=\"black\" stroke=\"black\" points=\"118.25,-182.57 108.06,-179.67 114.21,-188.29 118.25,-182.57\"/>\n",
       "</g>\n",
       "<!-- 4 -->\n",
       "<g id=\"node5\" class=\"node\">\n",
       "<title>4</title>\n",
       "<polygon fill=\"#ea9b62\" stroke=\"black\" points=\"313.5,-187 140.5,-187 140.5,-104 313.5,-104 313.5,-187\"/>\n",
       "<text text-anchor=\"middle\" x=\"227\" y=\"-171.8\" font-family=\"Times,serif\" font-size=\"14.00\">work_year &lt;= 2021.5</text>\n",
       "<text text-anchor=\"middle\" x=\"227\" y=\"-156.8\" font-family=\"Times,serif\" font-size=\"14.00\">gini = 0.284</text>\n",
       "<text text-anchor=\"middle\" x=\"227\" y=\"-141.8\" font-family=\"Times,serif\" font-size=\"14.00\">samples = 76</text>\n",
       "<text text-anchor=\"middle\" x=\"227\" y=\"-126.8\" font-family=\"Times,serif\" font-size=\"14.00\">value = [63, 13]</text>\n",
       "<text text-anchor=\"middle\" x=\"227\" y=\"-111.8\" font-family=\"Times,serif\" font-size=\"14.00\">class = 0</text>\n",
       "</g>\n",
       "<!-- 2&#45;&gt;4 -->\n",
       "<g id=\"edge4\" class=\"edge\">\n",
       "<title>2-&gt;4</title>\n",
       "<path fill=\"none\" stroke=\"black\" d=\"M227,-222.91C227,-214.65 227,-205.86 227,-197.3\"/>\n",
       "<polygon fill=\"black\" stroke=\"black\" points=\"230.5,-197.02 227,-187.02 223.5,-197.02 230.5,-197.02\"/>\n",
       "</g>\n",
       "<!-- 5 -->\n",
       "<g id=\"node6\" class=\"node\">\n",
       "<title>5</title>\n",
       "<polygon fill=\"#eeab7b\" stroke=\"black\" points=\"173.5,-68 42.5,-68 42.5,0 173.5,0 173.5,-68\"/>\n",
       "<text text-anchor=\"middle\" x=\"108\" y=\"-52.8\" font-family=\"Times,serif\" font-size=\"14.00\">gini = 0.375</text>\n",
       "<text text-anchor=\"middle\" x=\"108\" y=\"-37.8\" font-family=\"Times,serif\" font-size=\"14.00\">samples = 48</text>\n",
       "<text text-anchor=\"middle\" x=\"108\" y=\"-22.8\" font-family=\"Times,serif\" font-size=\"14.00\">value = [36, 12]</text>\n",
       "<text text-anchor=\"middle\" x=\"108\" y=\"-7.8\" font-family=\"Times,serif\" font-size=\"14.00\">class = 0</text>\n",
       "</g>\n",
       "<!-- 4&#45;&gt;5 -->\n",
       "<g id=\"edge5\" class=\"edge\">\n",
       "<title>4-&gt;5</title>\n",
       "<path fill=\"none\" stroke=\"black\" d=\"M182.69,-103.73C172.58,-94.42 161.84,-84.54 151.75,-75.26\"/>\n",
       "<polygon fill=\"black\" stroke=\"black\" points=\"153.92,-72.5 144.19,-68.3 149.18,-77.65 153.92,-72.5\"/>\n",
       "</g>\n",
       "<!-- 6 -->\n",
       "<g id=\"node7\" class=\"node\">\n",
       "<title>6</title>\n",
       "<polygon fill=\"#e68640\" stroke=\"black\" points=\"314,-68 192,-68 192,0 314,0 314,-68\"/>\n",
       "<text text-anchor=\"middle\" x=\"253\" y=\"-52.8\" font-family=\"Times,serif\" font-size=\"14.00\">gini = 0.069</text>\n",
       "<text text-anchor=\"middle\" x=\"253\" y=\"-37.8\" font-family=\"Times,serif\" font-size=\"14.00\">samples = 28</text>\n",
       "<text text-anchor=\"middle\" x=\"253\" y=\"-22.8\" font-family=\"Times,serif\" font-size=\"14.00\">value = [27, 1]</text>\n",
       "<text text-anchor=\"middle\" x=\"253\" y=\"-7.8\" font-family=\"Times,serif\" font-size=\"14.00\">class = 0</text>\n",
       "</g>\n",
       "<!-- 4&#45;&gt;6 -->\n",
       "<g id=\"edge6\" class=\"edge\">\n",
       "<title>4-&gt;6</title>\n",
       "<path fill=\"none\" stroke=\"black\" d=\"M236.68,-103.73C238.65,-95.43 240.73,-86.67 242.72,-78.28\"/>\n",
       "<polygon fill=\"black\" stroke=\"black\" points=\"246.19,-78.84 245.09,-68.3 239.38,-77.22 246.19,-78.84\"/>\n",
       "</g>\n",
       "<!-- 8 -->\n",
       "<g id=\"node9\" class=\"node\">\n",
       "<title>8</title>\n",
       "<polygon fill=\"#399de5\" stroke=\"black\" points=\"444.5,-179.5 331.5,-179.5 331.5,-111.5 444.5,-111.5 444.5,-179.5\"/>\n",
       "<text text-anchor=\"middle\" x=\"388\" y=\"-164.3\" font-family=\"Times,serif\" font-size=\"14.00\">gini = 0.0</text>\n",
       "<text text-anchor=\"middle\" x=\"388\" y=\"-149.3\" font-family=\"Times,serif\" font-size=\"14.00\">samples = 4</text>\n",
       "<text text-anchor=\"middle\" x=\"388\" y=\"-134.3\" font-family=\"Times,serif\" font-size=\"14.00\">value = [0, 4]</text>\n",
       "<text text-anchor=\"middle\" x=\"388\" y=\"-119.3\" font-family=\"Times,serif\" font-size=\"14.00\">class = 1</text>\n",
       "</g>\n",
       "<!-- 7&#45;&gt;8 -->\n",
       "<g id=\"edge8\" class=\"edge\">\n",
       "<title>7-&gt;8</title>\n",
       "<path fill=\"none\" stroke=\"black\" d=\"M465.71,-222.91C453.82,-211.21 440.85,-198.46 428.97,-186.78\"/>\n",
       "<polygon fill=\"black\" stroke=\"black\" points=\"431.32,-184.18 421.73,-179.67 426.41,-189.17 431.32,-184.18\"/>\n",
       "</g>\n",
       "<!-- 9 -->\n",
       "<g id=\"node10\" class=\"node\">\n",
       "<title>9</title>\n",
       "<polygon fill=\"#f1ba93\" stroke=\"black\" points=\"667,-187 463,-187 463,-104 667,-104 667,-187\"/>\n",
       "<text text-anchor=\"middle\" x=\"565\" y=\"-171.8\" font-family=\"Times,serif\" font-size=\"14.00\">salary_in_usd &lt;= 90717.0</text>\n",
       "<text text-anchor=\"middle\" x=\"565\" y=\"-156.8\" font-family=\"Times,serif\" font-size=\"14.00\">gini = 0.43</text>\n",
       "<text text-anchor=\"middle\" x=\"565\" y=\"-141.8\" font-family=\"Times,serif\" font-size=\"14.00\">samples = 80</text>\n",
       "<text text-anchor=\"middle\" x=\"565\" y=\"-126.8\" font-family=\"Times,serif\" font-size=\"14.00\">value = [55, 25]</text>\n",
       "<text text-anchor=\"middle\" x=\"565\" y=\"-111.8\" font-family=\"Times,serif\" font-size=\"14.00\">class = 0</text>\n",
       "</g>\n",
       "<!-- 7&#45;&gt;9 -->\n",
       "<g id=\"edge9\" class=\"edge\">\n",
       "<title>7-&gt;9</title>\n",
       "<path fill=\"none\" stroke=\"black\" d=\"M527.12,-222.91C531.4,-214.29 535.96,-205.09 540.37,-196.17\"/>\n",
       "<polygon fill=\"black\" stroke=\"black\" points=\"543.61,-197.53 544.91,-187.02 537.34,-194.43 543.61,-197.53\"/>\n",
       "</g>\n",
       "<!-- 10 -->\n",
       "<g id=\"node11\" class=\"node\">\n",
       "<title>10</title>\n",
       "<polygon fill=\"#f2c19e\" stroke=\"black\" points=\"490.5,-68 359.5,-68 359.5,0 490.5,0 490.5,-68\"/>\n",
       "<text text-anchor=\"middle\" x=\"425\" y=\"-52.8\" font-family=\"Times,serif\" font-size=\"14.00\">gini = 0.447</text>\n",
       "<text text-anchor=\"middle\" x=\"425\" y=\"-37.8\" font-family=\"Times,serif\" font-size=\"14.00\">samples = 74</text>\n",
       "<text text-anchor=\"middle\" x=\"425\" y=\"-22.8\" font-family=\"Times,serif\" font-size=\"14.00\">value = [49, 25]</text>\n",
       "<text text-anchor=\"middle\" x=\"425\" y=\"-7.8\" font-family=\"Times,serif\" font-size=\"14.00\">class = 0</text>\n",
       "</g>\n",
       "<!-- 9&#45;&gt;10 -->\n",
       "<g id=\"edge10\" class=\"edge\">\n",
       "<title>9-&gt;10</title>\n",
       "<path fill=\"none\" stroke=\"black\" d=\"M512.87,-103.73C500.74,-94.24 487.85,-84.16 475.78,-74.72\"/>\n",
       "<polygon fill=\"black\" stroke=\"black\" points=\"477.61,-71.7 467.57,-68.3 473.3,-77.22 477.61,-71.7\"/>\n",
       "</g>\n",
       "<!-- 11 -->\n",
       "<g id=\"node12\" class=\"node\">\n",
       "<title>11</title>\n",
       "<polygon fill=\"#e58139\" stroke=\"black\" points=\"621.5,-68 508.5,-68 508.5,0 621.5,0 621.5,-68\"/>\n",
       "<text text-anchor=\"middle\" x=\"565\" y=\"-52.8\" font-family=\"Times,serif\" font-size=\"14.00\">gini = 0.0</text>\n",
       "<text text-anchor=\"middle\" x=\"565\" y=\"-37.8\" font-family=\"Times,serif\" font-size=\"14.00\">samples = 6</text>\n",
       "<text text-anchor=\"middle\" x=\"565\" y=\"-22.8\" font-family=\"Times,serif\" font-size=\"14.00\">value = [6, 0]</text>\n",
       "<text text-anchor=\"middle\" x=\"565\" y=\"-7.8\" font-family=\"Times,serif\" font-size=\"14.00\">class = 0</text>\n",
       "</g>\n",
       "<!-- 9&#45;&gt;11 -->\n",
       "<g id=\"edge11\" class=\"edge\">\n",
       "<title>9-&gt;11</title>\n",
       "<path fill=\"none\" stroke=\"black\" d=\"M565,-103.73C565,-95.52 565,-86.86 565,-78.56\"/>\n",
       "<polygon fill=\"black\" stroke=\"black\" points=\"568.5,-78.3 565,-68.3 561.5,-78.3 568.5,-78.3\"/>\n",
       "</g>\n",
       "<!-- 13 -->\n",
       "<g id=\"node14\" class=\"node\">\n",
       "<title>13</title>\n",
       "<polygon fill=\"#cee7f9\" stroke=\"black\" points=\"1001.5,-306 828.5,-306 828.5,-223 1001.5,-223 1001.5,-306\"/>\n",
       "<text text-anchor=\"middle\" x=\"915\" y=\"-290.8\" font-family=\"Times,serif\" font-size=\"14.00\">work_year &lt;= 2021.5</text>\n",
       "<text text-anchor=\"middle\" x=\"915\" y=\"-275.8\" font-family=\"Times,serif\" font-size=\"14.00\">gini = 0.49</text>\n",
       "<text text-anchor=\"middle\" x=\"915\" y=\"-260.8\" font-family=\"Times,serif\" font-size=\"14.00\">samples = 93</text>\n",
       "<text text-anchor=\"middle\" x=\"915\" y=\"-245.8\" font-family=\"Times,serif\" font-size=\"14.00\">value = [40, 53]</text>\n",
       "<text text-anchor=\"middle\" x=\"915\" y=\"-230.8\" font-family=\"Times,serif\" font-size=\"14.00\">class = 1</text>\n",
       "</g>\n",
       "<!-- 12&#45;&gt;13 -->\n",
       "<g id=\"edge13\" class=\"edge\">\n",
       "<title>12-&gt;13</title>\n",
       "<path fill=\"none\" stroke=\"black\" d=\"M915,-341.91C915,-333.65 915,-324.86 915,-316.3\"/>\n",
       "<polygon fill=\"black\" stroke=\"black\" points=\"918.5,-316.02 915,-306.02 911.5,-316.02 918.5,-316.02\"/>\n",
       "</g>\n",
       "<!-- 20 -->\n",
       "<g id=\"node21\" class=\"node\">\n",
       "<title>20</title>\n",
       "<polygon fill=\"#5eafea\" stroke=\"black\" points=\"1376.5,-306 1163.5,-306 1163.5,-223 1376.5,-223 1376.5,-306\"/>\n",
       "<text text-anchor=\"middle\" x=\"1270\" y=\"-290.8\" font-family=\"Times,serif\" font-size=\"14.00\">salary_in_usd &lt;= 427500.0</text>\n",
       "<text text-anchor=\"middle\" x=\"1270\" y=\"-275.8\" font-family=\"Times,serif\" font-size=\"14.00\">gini = 0.266</text>\n",
       "<text text-anchor=\"middle\" x=\"1270\" y=\"-260.8\" font-family=\"Times,serif\" font-size=\"14.00\">samples = 133</text>\n",
       "<text text-anchor=\"middle\" x=\"1270\" y=\"-245.8\" font-family=\"Times,serif\" font-size=\"14.00\">value = [21, 112]</text>\n",
       "<text text-anchor=\"middle\" x=\"1270\" y=\"-230.8\" font-family=\"Times,serif\" font-size=\"14.00\">class = 1</text>\n",
       "</g>\n",
       "<!-- 12&#45;&gt;20 -->\n",
       "<g id=\"edge20\" class=\"edge\">\n",
       "<title>12-&gt;20</title>\n",
       "<path fill=\"none\" stroke=\"black\" d=\"M1021.51,-347.4C1063.19,-333.66 1111.12,-317.86 1153.69,-303.83\"/>\n",
       "<polygon fill=\"black\" stroke=\"black\" points=\"1154.86,-307.13 1163.26,-300.68 1152.66,-300.49 1154.86,-307.13\"/>\n",
       "</g>\n",
       "<!-- 14 -->\n",
       "<g id=\"node15\" class=\"node\">\n",
       "<title>14</title>\n",
       "<polygon fill=\"#f5ceb2\" stroke=\"black\" points=\"914,-187 710,-187 710,-104 914,-104 914,-187\"/>\n",
       "<text text-anchor=\"middle\" x=\"812\" y=\"-171.8\" font-family=\"Times,serif\" font-size=\"14.00\">salary_in_usd &lt;= 95205.5</text>\n",
       "<text text-anchor=\"middle\" x=\"812\" y=\"-156.8\" font-family=\"Times,serif\" font-size=\"14.00\">gini = 0.47</text>\n",
       "<text text-anchor=\"middle\" x=\"812\" y=\"-141.8\" font-family=\"Times,serif\" font-size=\"14.00\">samples = 37</text>\n",
       "<text text-anchor=\"middle\" x=\"812\" y=\"-126.8\" font-family=\"Times,serif\" font-size=\"14.00\">value = [23, 14]</text>\n",
       "<text text-anchor=\"middle\" x=\"812\" y=\"-111.8\" font-family=\"Times,serif\" font-size=\"14.00\">class = 0</text>\n",
       "</g>\n",
       "<!-- 13&#45;&gt;14 -->\n",
       "<g id=\"edge14\" class=\"edge\">\n",
       "<title>13-&gt;14</title>\n",
       "<path fill=\"none\" stroke=\"black\" d=\"M879.26,-222.91C871.28,-213.83 862.73,-204.12 854.49,-194.77\"/>\n",
       "<polygon fill=\"black\" stroke=\"black\" points=\"856.91,-192.21 847.67,-187.02 851.65,-196.84 856.91,-192.21\"/>\n",
       "</g>\n",
       "<!-- 17 -->\n",
       "<g id=\"node18\" class=\"node\">\n",
       "<title>17</title>\n",
       "<polygon fill=\"#8fc8f0\" stroke=\"black\" points=\"1105.5,-187 932.5,-187 932.5,-104 1105.5,-104 1105.5,-187\"/>\n",
       "<text text-anchor=\"middle\" x=\"1019\" y=\"-171.8\" font-family=\"Times,serif\" font-size=\"14.00\">remote_ratio &lt;= 75.0</text>\n",
       "<text text-anchor=\"middle\" x=\"1019\" y=\"-156.8\" font-family=\"Times,serif\" font-size=\"14.00\">gini = 0.423</text>\n",
       "<text text-anchor=\"middle\" x=\"1019\" y=\"-141.8\" font-family=\"Times,serif\" font-size=\"14.00\">samples = 56</text>\n",
       "<text text-anchor=\"middle\" x=\"1019\" y=\"-126.8\" font-family=\"Times,serif\" font-size=\"14.00\">value = [17, 39]</text>\n",
       "<text text-anchor=\"middle\" x=\"1019\" y=\"-111.8\" font-family=\"Times,serif\" font-size=\"14.00\">class = 1</text>\n",
       "</g>\n",
       "<!-- 13&#45;&gt;17 -->\n",
       "<g id=\"edge17\" class=\"edge\">\n",
       "<title>13-&gt;17</title>\n",
       "<path fill=\"none\" stroke=\"black\" d=\"M951.08,-222.91C959.15,-213.83 967.78,-204.12 976.09,-194.77\"/>\n",
       "<polygon fill=\"black\" stroke=\"black\" points=\"978.95,-196.82 982.98,-187.02 973.72,-192.17 978.95,-196.82\"/>\n",
       "</g>\n",
       "<!-- 15 -->\n",
       "<g id=\"node16\" class=\"node\">\n",
       "<title>15</title>\n",
       "<polygon fill=\"#399de5\" stroke=\"black\" points=\"752.5,-68 639.5,-68 639.5,0 752.5,0 752.5,-68\"/>\n",
       "<text text-anchor=\"middle\" x=\"696\" y=\"-52.8\" font-family=\"Times,serif\" font-size=\"14.00\">gini = 0.0</text>\n",
       "<text text-anchor=\"middle\" x=\"696\" y=\"-37.8\" font-family=\"Times,serif\" font-size=\"14.00\">samples = 2</text>\n",
       "<text text-anchor=\"middle\" x=\"696\" y=\"-22.8\" font-family=\"Times,serif\" font-size=\"14.00\">value = [0, 2]</text>\n",
       "<text text-anchor=\"middle\" x=\"696\" y=\"-7.8\" font-family=\"Times,serif\" font-size=\"14.00\">class = 1</text>\n",
       "</g>\n",
       "<!-- 14&#45;&gt;15 -->\n",
       "<g id=\"edge15\" class=\"edge\">\n",
       "<title>14-&gt;15</title>\n",
       "<path fill=\"none\" stroke=\"black\" d=\"M768.81,-103.73C758.95,-94.42 748.48,-84.54 738.65,-75.26\"/>\n",
       "<polygon fill=\"black\" stroke=\"black\" points=\"740.95,-72.62 731.28,-68.3 736.15,-77.71 740.95,-72.62\"/>\n",
       "</g>\n",
       "<!-- 16 -->\n",
       "<g id=\"node17\" class=\"node\">\n",
       "<title>16</title>\n",
       "<polygon fill=\"#f3c3a0\" stroke=\"black\" points=\"901.5,-68 770.5,-68 770.5,0 901.5,0 901.5,-68\"/>\n",
       "<text text-anchor=\"middle\" x=\"836\" y=\"-52.8\" font-family=\"Times,serif\" font-size=\"14.00\">gini = 0.451</text>\n",
       "<text text-anchor=\"middle\" x=\"836\" y=\"-37.8\" font-family=\"Times,serif\" font-size=\"14.00\">samples = 35</text>\n",
       "<text text-anchor=\"middle\" x=\"836\" y=\"-22.8\" font-family=\"Times,serif\" font-size=\"14.00\">value = [23, 12]</text>\n",
       "<text text-anchor=\"middle\" x=\"836\" y=\"-7.8\" font-family=\"Times,serif\" font-size=\"14.00\">class = 0</text>\n",
       "</g>\n",
       "<!-- 14&#45;&gt;16 -->\n",
       "<g id=\"edge16\" class=\"edge\">\n",
       "<title>14-&gt;16</title>\n",
       "<path fill=\"none\" stroke=\"black\" d=\"M820.94,-103.73C822.76,-95.43 824.68,-86.67 826.51,-78.28\"/>\n",
       "<polygon fill=\"black\" stroke=\"black\" points=\"829.98,-78.82 828.7,-68.3 823.14,-77.32 829.98,-78.82\"/>\n",
       "</g>\n",
       "<!-- 18 -->\n",
       "<g id=\"node19\" class=\"node\">\n",
       "<title>18</title>\n",
       "<polygon fill=\"#f3c6a5\" stroke=\"black\" points=\"1042,-68 920,-68 920,0 1042,0 1042,-68\"/>\n",
       "<text text-anchor=\"middle\" x=\"981\" y=\"-52.8\" font-family=\"Times,serif\" font-size=\"14.00\">gini = 0.457</text>\n",
       "<text text-anchor=\"middle\" x=\"981\" y=\"-37.8\" font-family=\"Times,serif\" font-size=\"14.00\">samples = 17</text>\n",
       "<text text-anchor=\"middle\" x=\"981\" y=\"-22.8\" font-family=\"Times,serif\" font-size=\"14.00\">value = [11, 6]</text>\n",
       "<text text-anchor=\"middle\" x=\"981\" y=\"-7.8\" font-family=\"Times,serif\" font-size=\"14.00\">class = 0</text>\n",
       "</g>\n",
       "<!-- 17&#45;&gt;18 -->\n",
       "<g id=\"edge18\" class=\"edge\">\n",
       "<title>17-&gt;18</title>\n",
       "<path fill=\"none\" stroke=\"black\" d=\"M1004.85,-103.73C1001.94,-95.34 998.86,-86.47 995.92,-78.01\"/>\n",
       "<polygon fill=\"black\" stroke=\"black\" points=\"999.14,-76.6 992.56,-68.3 992.53,-78.89 999.14,-76.6\"/>\n",
       "</g>\n",
       "<!-- 19 -->\n",
       "<g id=\"node20\" class=\"node\">\n",
       "<title>19</title>\n",
       "<polygon fill=\"#5dafea\" stroke=\"black\" points=\"1182,-68 1060,-68 1060,0 1182,0 1182,-68\"/>\n",
       "<text text-anchor=\"middle\" x=\"1121\" y=\"-52.8\" font-family=\"Times,serif\" font-size=\"14.00\">gini = 0.26</text>\n",
       "<text text-anchor=\"middle\" x=\"1121\" y=\"-37.8\" font-family=\"Times,serif\" font-size=\"14.00\">samples = 39</text>\n",
       "<text text-anchor=\"middle\" x=\"1121\" y=\"-22.8\" font-family=\"Times,serif\" font-size=\"14.00\">value = [6, 33]</text>\n",
       "<text text-anchor=\"middle\" x=\"1121\" y=\"-7.8\" font-family=\"Times,serif\" font-size=\"14.00\">class = 1</text>\n",
       "</g>\n",
       "<!-- 17&#45;&gt;19 -->\n",
       "<g id=\"edge19\" class=\"edge\">\n",
       "<title>17-&gt;19</title>\n",
       "<path fill=\"none\" stroke=\"black\" d=\"M1056.98,-103.73C1065.48,-94.61 1074.49,-84.93 1082.99,-75.81\"/>\n",
       "<polygon fill=\"black\" stroke=\"black\" points=\"1085.73,-78 1089.98,-68.3 1080.6,-73.23 1085.73,-78\"/>\n",
       "</g>\n",
       "<!-- 21 -->\n",
       "<g id=\"node22\" class=\"node\">\n",
       "<title>21</title>\n",
       "<polygon fill=\"#5baee9\" stroke=\"black\" points=\"1382.5,-187 1157.5,-187 1157.5,-104 1382.5,-104 1382.5,-187\"/>\n",
       "<text text-anchor=\"middle\" x=\"1270\" y=\"-171.8\" font-family=\"Times,serif\" font-size=\"14.00\">employment_type_CT &lt;= 0.5</text>\n",
       "<text text-anchor=\"middle\" x=\"1270\" y=\"-156.8\" font-family=\"Times,serif\" font-size=\"14.00\">gini = 0.248</text>\n",
       "<text text-anchor=\"middle\" x=\"1270\" y=\"-141.8\" font-family=\"Times,serif\" font-size=\"14.00\">samples = 131</text>\n",
       "<text text-anchor=\"middle\" x=\"1270\" y=\"-126.8\" font-family=\"Times,serif\" font-size=\"14.00\">value = [19, 112]</text>\n",
       "<text text-anchor=\"middle\" x=\"1270\" y=\"-111.8\" font-family=\"Times,serif\" font-size=\"14.00\">class = 1</text>\n",
       "</g>\n",
       "<!-- 20&#45;&gt;21 -->\n",
       "<g id=\"edge21\" class=\"edge\">\n",
       "<title>20-&gt;21</title>\n",
       "<path fill=\"none\" stroke=\"black\" d=\"M1270,-222.91C1270,-214.65 1270,-205.86 1270,-197.3\"/>\n",
       "<polygon fill=\"black\" stroke=\"black\" points=\"1273.5,-197.02 1270,-187.02 1266.5,-197.02 1273.5,-197.02\"/>\n",
       "</g>\n",
       "<!-- 24 -->\n",
       "<g id=\"node25\" class=\"node\">\n",
       "<title>24</title>\n",
       "<polygon fill=\"#e58139\" stroke=\"black\" points=\"1513.5,-179.5 1400.5,-179.5 1400.5,-111.5 1513.5,-111.5 1513.5,-179.5\"/>\n",
       "<text text-anchor=\"middle\" x=\"1457\" y=\"-164.3\" font-family=\"Times,serif\" font-size=\"14.00\">gini = 0.0</text>\n",
       "<text text-anchor=\"middle\" x=\"1457\" y=\"-149.3\" font-family=\"Times,serif\" font-size=\"14.00\">samples = 2</text>\n",
       "<text text-anchor=\"middle\" x=\"1457\" y=\"-134.3\" font-family=\"Times,serif\" font-size=\"14.00\">value = [2, 0]</text>\n",
       "<text text-anchor=\"middle\" x=\"1457\" y=\"-119.3\" font-family=\"Times,serif\" font-size=\"14.00\">class = 0</text>\n",
       "</g>\n",
       "<!-- 20&#45;&gt;24 -->\n",
       "<g id=\"edge24\" class=\"edge\">\n",
       "<title>20-&gt;24</title>\n",
       "<path fill=\"none\" stroke=\"black\" d=\"M1334.88,-222.91C1354.46,-210.66 1375.88,-197.25 1395.25,-185.13\"/>\n",
       "<polygon fill=\"black\" stroke=\"black\" points=\"1397.37,-187.94 1403.99,-179.67 1393.66,-182 1397.37,-187.94\"/>\n",
       "</g>\n",
       "<!-- 22 -->\n",
       "<g id=\"node23\" class=\"node\">\n",
       "<title>22</title>\n",
       "<polygon fill=\"#59ade9\" stroke=\"black\" points=\"1340,-68 1200,-68 1200,0 1340,0 1340,-68\"/>\n",
       "<text text-anchor=\"middle\" x=\"1270\" y=\"-52.8\" font-family=\"Times,serif\" font-size=\"14.00\">gini = 0.239</text>\n",
       "<text text-anchor=\"middle\" x=\"1270\" y=\"-37.8\" font-family=\"Times,serif\" font-size=\"14.00\">samples = 130</text>\n",
       "<text text-anchor=\"middle\" x=\"1270\" y=\"-22.8\" font-family=\"Times,serif\" font-size=\"14.00\">value = [18, 112]</text>\n",
       "<text text-anchor=\"middle\" x=\"1270\" y=\"-7.8\" font-family=\"Times,serif\" font-size=\"14.00\">class = 1</text>\n",
       "</g>\n",
       "<!-- 21&#45;&gt;22 -->\n",
       "<g id=\"edge22\" class=\"edge\">\n",
       "<title>21-&gt;22</title>\n",
       "<path fill=\"none\" stroke=\"black\" d=\"M1270,-103.73C1270,-95.52 1270,-86.86 1270,-78.56\"/>\n",
       "<polygon fill=\"black\" stroke=\"black\" points=\"1273.5,-78.3 1270,-68.3 1266.5,-78.3 1273.5,-78.3\"/>\n",
       "</g>\n",
       "<!-- 23 -->\n",
       "<g id=\"node24\" class=\"node\">\n",
       "<title>23</title>\n",
       "<polygon fill=\"#e58139\" stroke=\"black\" points=\"1471.5,-68 1358.5,-68 1358.5,0 1471.5,0 1471.5,-68\"/>\n",
       "<text text-anchor=\"middle\" x=\"1415\" y=\"-52.8\" font-family=\"Times,serif\" font-size=\"14.00\">gini = 0.0</text>\n",
       "<text text-anchor=\"middle\" x=\"1415\" y=\"-37.8\" font-family=\"Times,serif\" font-size=\"14.00\">samples = 1</text>\n",
       "<text text-anchor=\"middle\" x=\"1415\" y=\"-22.8\" font-family=\"Times,serif\" font-size=\"14.00\">value = [1, 0]</text>\n",
       "<text text-anchor=\"middle\" x=\"1415\" y=\"-7.8\" font-family=\"Times,serif\" font-size=\"14.00\">class = 0</text>\n",
       "</g>\n",
       "<!-- 21&#45;&gt;23 -->\n",
       "<g id=\"edge23\" class=\"edge\">\n",
       "<title>21-&gt;23</title>\n",
       "<path fill=\"none\" stroke=\"black\" d=\"M1323.99,-103.73C1336.67,-94.15 1350.17,-83.96 1362.77,-74.44\"/>\n",
       "<polygon fill=\"black\" stroke=\"black\" points=\"1365.03,-77.12 1370.9,-68.3 1360.82,-71.53 1365.03,-77.12\"/>\n",
       "</g>\n",
       "</g>\n",
       "</svg>"
      ],
      "text/plain": [
       "<IPython.core.display.SVG object>"
      ]
     },
     "metadata": {},
     "output_type": "display_data"
    }
   ],
   "source": [
    "display(SVG(graph.pipe(format='svg')))"
   ]
  },
  {
   "cell_type": "markdown",
   "id": "553e287d",
   "metadata": {},
   "source": [
    " "
   ]
  },
  {
   "cell_type": "markdown",
   "id": "bac904b4",
   "metadata": {},
   "source": [
    "### Алгоритмы заполнения пропусков "
   ]
  },
  {
   "cell_type": "markdown",
   "id": "c143fbc7",
   "metadata": {},
   "source": [
    "Пробежимся по всем алгоритмам заполнения пропусков, каждый алгоритм попробует восстановить 10%, 25%, 33% и 50% пропусков. "
   ]
  },
  {
   "cell_type": "code",
   "execution_count": 33,
   "id": "477fa78c",
   "metadata": {},
   "outputs": [
    {
     "data": {
      "text/plain": [
       "24"
      ]
     },
     "execution_count": 33,
     "metadata": {},
     "output_type": "execute_result"
    }
   ],
   "source": [
    "dict_algo ={'random': impute_with_random_value, \n",
    "            'value -1': impute_with_fixed_value, \n",
    "            'median': impute_with_median, \n",
    "            'hot desk': impute_hot,\n",
    "            'knn': impute_knn, \n",
    "            'forest': impute_forest\n",
    "           }\n",
    "\n",
    "product_list = list(product(list(dict_algo.keys()), [0.1, 0.25, 0.33, 0.5]))\n",
    "len(product_list)"
   ]
  },
  {
   "cell_type": "markdown",
   "id": "344d8f46",
   "metadata": {},
   "source": [
    " "
   ]
  },
  {
   "cell_type": "code",
   "execution_count": 34,
   "id": "28a04fed",
   "metadata": {
    "scrolled": true
   },
   "outputs": [
    {
     "name": "stderr",
     "output_type": "stream",
     "text": [
      " 83%|███████████████████████████████████▊       | 20/24 [00:47<00:10,  2.50s/it]"
     ]
    },
    {
     "name": "stdout",
     "output_type": "stream",
     "text": [
      "Iteration: 0\n",
      "Iteration: 1\n",
      "Iteration: 2\n",
      "Iteration: 0\n",
      "Iteration: 1\n",
      "Iteration: 2\n",
      "Iteration: 0\n",
      "Iteration: 1\n",
      "Iteration: 2\n",
      "Iteration: 3\n",
      "Iteration: 4\n",
      "Iteration: 0\n",
      "Iteration: 1\n",
      "Iteration: 2\n",
      "Iteration: 0\n",
      "Iteration: 1\n",
      "Iteration: 2\n",
      "Iteration: 0\n",
      "Iteration: 1\n",
      "Iteration: 2\n",
      "Iteration: 0\n",
      "Iteration: 1\n",
      "Iteration: 2\n",
      "Iteration: 3\n",
      "Iteration: 0\n",
      "Iteration: 1\n",
      "Iteration: 2\n",
      "Iteration: 0\n",
      "Iteration: 1\n",
      "Iteration: 2\n",
      "Iteration: 3\n",
      "Iteration: 4\n",
      "Iteration: 5\n",
      "Iteration: 0\n",
      "Iteration: 1\n",
      "Iteration: 2\n",
      "Iteration: 3\n",
      "Iteration: 4\n"
     ]
    },
    {
     "name": "stderr",
     "output_type": "stream",
     "text": [
      "\r",
      " 88%|█████████████████████████████████████▋     | 21/24 [01:09<00:24,  8.29s/it]"
     ]
    },
    {
     "name": "stdout",
     "output_type": "stream",
     "text": [
      "Iteration: 0\n",
      "Iteration: 1\n",
      "Iteration: 2\n",
      "Iteration: 3\n",
      "Iteration: 4\n",
      "Iteration: 0\n",
      "Iteration: 1\n",
      "Iteration: 2\n",
      "Iteration: 0\n",
      "Iteration: 1\n",
      "Iteration: 2\n",
      "Iteration: 3\n",
      "Iteration: 0\n",
      "Iteration: 1\n",
      "Iteration: 2\n",
      "Iteration: 0\n",
      "Iteration: 1\n",
      "Iteration: 2\n",
      "Iteration: 0\n",
      "Iteration: 1\n",
      "Iteration: 2\n",
      "Iteration: 0\n",
      "Iteration: 1\n",
      "Iteration: 2\n",
      "Iteration: 3\n",
      "Iteration: 0\n",
      "Iteration: 1\n",
      "Iteration: 2\n",
      "Iteration: 0\n",
      "Iteration: 1\n",
      "Iteration: 2\n",
      "Iteration: 3\n",
      "Iteration: 4\n",
      "Iteration: 0\n",
      "Iteration: 1\n",
      "Iteration: 2\n",
      "Iteration: 3\n"
     ]
    },
    {
     "name": "stderr",
     "output_type": "stream",
     "text": [
      "\r",
      " 92%|███████████████████████████████████████▍   | 22/24 [01:31<00:24, 12.29s/it]"
     ]
    },
    {
     "name": "stdout",
     "output_type": "stream",
     "text": [
      "Iteration: 0\n",
      "Iteration: 1\n",
      "Iteration: 2\n",
      "Iteration: 3\n",
      "Iteration: 0\n",
      "Iteration: 1\n",
      "Iteration: 2\n",
      "Iteration: 3\n",
      "Iteration: 0\n",
      "Iteration: 1\n",
      "Iteration: 2\n",
      "Iteration: 3\n",
      "Iteration: 0\n",
      "Iteration: 1\n",
      "Iteration: 2\n",
      "Iteration: 3\n",
      "Iteration: 0\n",
      "Iteration: 1\n",
      "Iteration: 2\n",
      "Iteration: 0\n",
      "Iteration: 1\n",
      "Iteration: 2\n",
      "Iteration: 0\n",
      "Iteration: 1\n",
      "Iteration: 2\n",
      "Iteration: 0\n",
      "Iteration: 1\n",
      "Iteration: 2\n",
      "Iteration: 3\n",
      "Iteration: 0\n",
      "Iteration: 1\n",
      "Iteration: 2\n",
      "Iteration: 3\n",
      "Iteration: 0\n",
      "Iteration: 1\n",
      "Iteration: 2\n"
     ]
    },
    {
     "name": "stderr",
     "output_type": "stream",
     "text": [
      "\r",
      " 96%|█████████████████████████████████████████▏ | 23/24 [01:51<00:14, 14.84s/it]"
     ]
    },
    {
     "name": "stdout",
     "output_type": "stream",
     "text": [
      "Iteration: 0\n",
      "Iteration: 1\n",
      "Iteration: 2\n",
      "Iteration: 0\n",
      "Iteration: 1\n",
      "Iteration: 2\n",
      "Iteration: 3\n",
      "Iteration: 0\n",
      "Iteration: 1\n",
      "Iteration: 2\n",
      "Iteration: 3\n",
      "Iteration: 0\n",
      "Iteration: 1\n",
      "Iteration: 2\n",
      "Iteration: 3\n",
      "Iteration: 4\n",
      "Iteration: 0\n",
      "Iteration: 1\n",
      "Iteration: 2\n",
      "Iteration: 0\n",
      "Iteration: 1\n",
      "Iteration: 2\n",
      "Iteration: 0\n",
      "Iteration: 1\n",
      "Iteration: 2\n",
      "Iteration: 3\n",
      "Iteration: 0\n",
      "Iteration: 1\n",
      "Iteration: 2\n",
      "Iteration: 3\n",
      "Iteration: 0\n",
      "Iteration: 1\n",
      "Iteration: 2\n",
      "Iteration: 3\n",
      "Iteration: 0\n",
      "Iteration: 1\n",
      "Iteration: 2\n"
     ]
    },
    {
     "name": "stderr",
     "output_type": "stream",
     "text": [
      "100%|███████████████████████████████████████████| 24/24 [02:13<00:00,  5.57s/it]\n"
     ]
    }
   ],
   "source": [
    "for exp_name, nan in tqdm(product_list):\n",
    "    \n",
    "    table = exp_loop(X_train=X_train, X_test=X_test, y_train=y_train, y_test=y_test, inform=False,\n",
    "                 table=table, exp_name=exp_name, nan=nan, algo=dict_algo[exp_name], n_iter=10)"
   ]
  },
  {
   "cell_type": "markdown",
   "id": "3e666f8f",
   "metadata": {},
   "source": [
    " "
   ]
  },
  {
   "cell_type": "markdown",
   "id": "ac7b4f06",
   "metadata": {},
   "source": [
    "### Сводная таблица и анализ"
   ]
  },
  {
   "cell_type": "code",
   "execution_count": 35,
   "id": "f0c90183",
   "metadata": {},
   "outputs": [
    {
     "data": {
      "text/html": [
       "<div>\n",
       "<style scoped>\n",
       "    .dataframe tbody tr th:only-of-type {\n",
       "        vertical-align: middle;\n",
       "    }\n",
       "\n",
       "    .dataframe tbody tr th {\n",
       "        vertical-align: top;\n",
       "    }\n",
       "\n",
       "    .dataframe thead th {\n",
       "        text-align: right;\n",
       "    }\n",
       "</style>\n",
       "<table border=\"1\" class=\"dataframe\">\n",
       "  <thead>\n",
       "    <tr style=\"text-align: right;\">\n",
       "      <th></th>\n",
       "      <th>experiment</th>\n",
       "      <th>% nan</th>\n",
       "      <th>nan_mae</th>\n",
       "      <th>nan_mae_std</th>\n",
       "      <th>train_score</th>\n",
       "      <th>train_score_std</th>\n",
       "      <th>test_score</th>\n",
       "      <th>test_score_std</th>\n",
       "      <th>max depth</th>\n",
       "      <th>importance</th>\n",
       "      <th>importance_std</th>\n",
       "    </tr>\n",
       "  </thead>\n",
       "  <tbody>\n",
       "    <tr>\n",
       "      <th>0</th>\n",
       "      <td>full dataset</td>\n",
       "      <td>0</td>\n",
       "      <td>0</td>\n",
       "      <td>0</td>\n",
       "      <td>0.746402</td>\n",
       "      <td>0</td>\n",
       "      <td>0.736318</td>\n",
       "      <td>0</td>\n",
       "      <td>4</td>\n",
       "      <td>0.843099</td>\n",
       "      <td>0</td>\n",
       "    </tr>\n",
       "    <tr>\n",
       "      <th>1</th>\n",
       "      <td>random</td>\n",
       "      <td>10.0</td>\n",
       "      <td>5926</td>\n",
       "      <td>780</td>\n",
       "      <td>0.731527</td>\n",
       "      <td>0.013455</td>\n",
       "      <td>0.761194</td>\n",
       "      <td>0.019404</td>\n",
       "      <td>3</td>\n",
       "      <td>0.838728</td>\n",
       "      <td>0.031432</td>\n",
       "    </tr>\n",
       "    <tr>\n",
       "      <th>2</th>\n",
       "      <td>random</td>\n",
       "      <td>25.0</td>\n",
       "      <td>14446</td>\n",
       "      <td>952</td>\n",
       "      <td>0.696899</td>\n",
       "      <td>0.022839</td>\n",
       "      <td>0.781095</td>\n",
       "      <td>0.026945</td>\n",
       "      <td>3</td>\n",
       "      <td>0.722095</td>\n",
       "      <td>0.072015</td>\n",
       "    </tr>\n",
       "    <tr>\n",
       "      <th>3</th>\n",
       "      <td>random</td>\n",
       "      <td>33.0</td>\n",
       "      <td>17828</td>\n",
       "      <td>1594</td>\n",
       "      <td>0.69467</td>\n",
       "      <td>0.023548</td>\n",
       "      <td>0.761194</td>\n",
       "      <td>0.028265</td>\n",
       "      <td>3</td>\n",
       "      <td>0.74166</td>\n",
       "      <td>0.052258</td>\n",
       "    </tr>\n",
       "    <tr>\n",
       "      <th>4</th>\n",
       "      <td>random</td>\n",
       "      <td>50.0</td>\n",
       "      <td>28725</td>\n",
       "      <td>2298</td>\n",
       "      <td>0.697079</td>\n",
       "      <td>0.021241</td>\n",
       "      <td>0.776119</td>\n",
       "      <td>0.033828</td>\n",
       "      <td>3</td>\n",
       "      <td>0.672996</td>\n",
       "      <td>0.072246</td>\n",
       "    </tr>\n",
       "    <tr>\n",
       "      <th>5</th>\n",
       "      <td>value -1</td>\n",
       "      <td>10.0</td>\n",
       "      <td>11212</td>\n",
       "      <td>823</td>\n",
       "      <td>0.726528</td>\n",
       "      <td>0.017971</td>\n",
       "      <td>0.766169</td>\n",
       "      <td>0.016113</td>\n",
       "      <td>4</td>\n",
       "      <td>0.812194</td>\n",
       "      <td>0.061152</td>\n",
       "    </tr>\n",
       "    <tr>\n",
       "      <th>6</th>\n",
       "      <td>value -1</td>\n",
       "      <td>25.0</td>\n",
       "      <td>24435</td>\n",
       "      <td>1577</td>\n",
       "      <td>0.684643</td>\n",
       "      <td>0.017112</td>\n",
       "      <td>0.766169</td>\n",
       "      <td>0.016551</td>\n",
       "      <td>3</td>\n",
       "      <td>0.790036</td>\n",
       "      <td>0.058361</td>\n",
       "    </tr>\n",
       "    <tr>\n",
       "      <th>7</th>\n",
       "      <td>value -1</td>\n",
       "      <td>33.0</td>\n",
       "      <td>29526</td>\n",
       "      <td>2292</td>\n",
       "      <td>0.702138</td>\n",
       "      <td>0.015162</td>\n",
       "      <td>0.756219</td>\n",
       "      <td>0.022026</td>\n",
       "      <td>3</td>\n",
       "      <td>0.835679</td>\n",
       "      <td>0.062921</td>\n",
       "    </tr>\n",
       "    <tr>\n",
       "      <th>8</th>\n",
       "      <td>value -1</td>\n",
       "      <td>50.0</td>\n",
       "      <td>41623</td>\n",
       "      <td>2553</td>\n",
       "      <td>0.714273</td>\n",
       "      <td>0.01663</td>\n",
       "      <td>0.766169</td>\n",
       "      <td>0.029312</td>\n",
       "      <td>5</td>\n",
       "      <td>0.723218</td>\n",
       "      <td>0.052266</td>\n",
       "    </tr>\n",
       "    <tr>\n",
       "      <th>9</th>\n",
       "      <td>median</td>\n",
       "      <td>10.0</td>\n",
       "      <td>4036</td>\n",
       "      <td>412</td>\n",
       "      <td>0.748841</td>\n",
       "      <td>0.013262</td>\n",
       "      <td>0.761194</td>\n",
       "      <td>0.013058</td>\n",
       "      <td>3</td>\n",
       "      <td>0.884156</td>\n",
       "      <td>0.066233</td>\n",
       "    </tr>\n",
       "    <tr>\n",
       "      <th>10</th>\n",
       "      <td>median</td>\n",
       "      <td>25.0</td>\n",
       "      <td>10888</td>\n",
       "      <td>666</td>\n",
       "      <td>0.738934</td>\n",
       "      <td>0.013688</td>\n",
       "      <td>0.78607</td>\n",
       "      <td>0.020066</td>\n",
       "      <td>5</td>\n",
       "      <td>0.712774</td>\n",
       "      <td>0.067728</td>\n",
       "    </tr>\n",
       "    <tr>\n",
       "      <th>11</th>\n",
       "      <td>median</td>\n",
       "      <td>33.0</td>\n",
       "      <td>13053</td>\n",
       "      <td>1214</td>\n",
       "      <td>0.716772</td>\n",
       "      <td>0.014579</td>\n",
       "      <td>0.776119</td>\n",
       "      <td>0.027755</td>\n",
       "      <td>4</td>\n",
       "      <td>0.733069</td>\n",
       "      <td>0.067396</td>\n",
       "    </tr>\n",
       "    <tr>\n",
       "      <th>12</th>\n",
       "      <td>median</td>\n",
       "      <td>50.0</td>\n",
       "      <td>19966</td>\n",
       "      <td>1375</td>\n",
       "      <td>0.697079</td>\n",
       "      <td>0.016012</td>\n",
       "      <td>0.771144</td>\n",
       "      <td>0.019545</td>\n",
       "      <td>3</td>\n",
       "      <td>0.826204</td>\n",
       "      <td>0.051724</td>\n",
       "    </tr>\n",
       "    <tr>\n",
       "      <th>13</th>\n",
       "      <td>hot desk</td>\n",
       "      <td>10.0</td>\n",
       "      <td>6936</td>\n",
       "      <td>430</td>\n",
       "      <td>0.736435</td>\n",
       "      <td>0.018651</td>\n",
       "      <td>0.756219</td>\n",
       "      <td>0.022101</td>\n",
       "      <td>3</td>\n",
       "      <td>0.837916</td>\n",
       "      <td>0.069652</td>\n",
       "    </tr>\n",
       "    <tr>\n",
       "      <th>14</th>\n",
       "      <td>hot desk</td>\n",
       "      <td>25.0</td>\n",
       "      <td>17855</td>\n",
       "      <td>1383</td>\n",
       "      <td>0.687233</td>\n",
       "      <td>0.01903</td>\n",
       "      <td>0.78607</td>\n",
       "      <td>0.041757</td>\n",
       "      <td>3</td>\n",
       "      <td>0.870922</td>\n",
       "      <td>0.04899</td>\n",
       "    </tr>\n",
       "    <tr>\n",
       "      <th>15</th>\n",
       "      <td>hot desk</td>\n",
       "      <td>33.0</td>\n",
       "      <td>21730</td>\n",
       "      <td>1513</td>\n",
       "      <td>0.665011</td>\n",
       "      <td>0.018974</td>\n",
       "      <td>0.776119</td>\n",
       "      <td>0.042098</td>\n",
       "      <td>4</td>\n",
       "      <td>0.750631</td>\n",
       "      <td>0.048552</td>\n",
       "    </tr>\n",
       "    <tr>\n",
       "      <th>16</th>\n",
       "      <td>hot desk</td>\n",
       "      <td>50.0</td>\n",
       "      <td>25277</td>\n",
       "      <td>2085</td>\n",
       "      <td>0.674857</td>\n",
       "      <td>0.018627</td>\n",
       "      <td>0.776119</td>\n",
       "      <td>0.061704</td>\n",
       "      <td>3</td>\n",
       "      <td>0.688111</td>\n",
       "      <td>0.041541</td>\n",
       "    </tr>\n",
       "    <tr>\n",
       "      <th>17</th>\n",
       "      <td>knn</td>\n",
       "      <td>10.0</td>\n",
       "      <td>4215</td>\n",
       "      <td>404</td>\n",
       "      <td>0.748841</td>\n",
       "      <td>0.01096</td>\n",
       "      <td>0.761194</td>\n",
       "      <td>0.011773</td>\n",
       "      <td>3</td>\n",
       "      <td>0.884156</td>\n",
       "      <td>0.040533</td>\n",
       "    </tr>\n",
       "    <tr>\n",
       "      <th>18</th>\n",
       "      <td>knn</td>\n",
       "      <td>25.0</td>\n",
       "      <td>11246</td>\n",
       "      <td>545</td>\n",
       "      <td>0.736495</td>\n",
       "      <td>0.01395</td>\n",
       "      <td>0.776119</td>\n",
       "      <td>0.018287</td>\n",
       "      <td>3</td>\n",
       "      <td>0.805964</td>\n",
       "      <td>0.060439</td>\n",
       "    </tr>\n",
       "    <tr>\n",
       "      <th>19</th>\n",
       "      <td>knn</td>\n",
       "      <td>33.0</td>\n",
       "      <td>13421</td>\n",
       "      <td>1106</td>\n",
       "      <td>0.716772</td>\n",
       "      <td>0.014565</td>\n",
       "      <td>0.776119</td>\n",
       "      <td>0.028065</td>\n",
       "      <td>4</td>\n",
       "      <td>0.733069</td>\n",
       "      <td>0.064973</td>\n",
       "    </tr>\n",
       "    <tr>\n",
       "      <th>20</th>\n",
       "      <td>knn</td>\n",
       "      <td>50.0</td>\n",
       "      <td>19927</td>\n",
       "      <td>1236</td>\n",
       "      <td>0.697079</td>\n",
       "      <td>0.015768</td>\n",
       "      <td>0.771144</td>\n",
       "      <td>0.023459</td>\n",
       "      <td>3</td>\n",
       "      <td>0.826204</td>\n",
       "      <td>0.046454</td>\n",
       "    </tr>\n",
       "    <tr>\n",
       "      <th>21</th>\n",
       "      <td>forest</td>\n",
       "      <td>10.0</td>\n",
       "      <td>4166</td>\n",
       "      <td>575</td>\n",
       "      <td>0.724059</td>\n",
       "      <td>0.01879</td>\n",
       "      <td>0.771144</td>\n",
       "      <td>0.021901</td>\n",
       "      <td>2</td>\n",
       "      <td>1.0</td>\n",
       "      <td>0.0765</td>\n",
       "    </tr>\n",
       "    <tr>\n",
       "      <th>22</th>\n",
       "      <td>forest</td>\n",
       "      <td>25.0</td>\n",
       "      <td>10500</td>\n",
       "      <td>707</td>\n",
       "      <td>0.699578</td>\n",
       "      <td>0.017108</td>\n",
       "      <td>0.766169</td>\n",
       "      <td>0.018733</td>\n",
       "      <td>4</td>\n",
       "      <td>0.777821</td>\n",
       "      <td>0.056078</td>\n",
       "    </tr>\n",
       "    <tr>\n",
       "      <th>23</th>\n",
       "      <td>forest</td>\n",
       "      <td>33.0</td>\n",
       "      <td>13510</td>\n",
       "      <td>1130</td>\n",
       "      <td>0.724179</td>\n",
       "      <td>0.016626</td>\n",
       "      <td>0.766169</td>\n",
       "      <td>0.030941</td>\n",
       "      <td>3</td>\n",
       "      <td>0.842984</td>\n",
       "      <td>0.077231</td>\n",
       "    </tr>\n",
       "    <tr>\n",
       "      <th>24</th>\n",
       "      <td>forest</td>\n",
       "      <td>50.0</td>\n",
       "      <td>22018</td>\n",
       "      <td>1390</td>\n",
       "      <td>0.72171</td>\n",
       "      <td>0.016545</td>\n",
       "      <td>0.776119</td>\n",
       "      <td>0.031661</td>\n",
       "      <td>3</td>\n",
       "      <td>0.82023</td>\n",
       "      <td>0.075125</td>\n",
       "    </tr>\n",
       "  </tbody>\n",
       "</table>\n",
       "</div>"
      ],
      "text/plain": [
       "      experiment % nan nan_mae nan_mae_std train_score train_score_std  \\\n",
       "0   full dataset     0       0           0    0.746402               0   \n",
       "1         random  10.0    5926         780    0.731527        0.013455   \n",
       "2         random  25.0   14446         952    0.696899        0.022839   \n",
       "3         random  33.0   17828        1594     0.69467        0.023548   \n",
       "4         random  50.0   28725        2298    0.697079        0.021241   \n",
       "5       value -1  10.0   11212         823    0.726528        0.017971   \n",
       "6       value -1  25.0   24435        1577    0.684643        0.017112   \n",
       "7       value -1  33.0   29526        2292    0.702138        0.015162   \n",
       "8       value -1  50.0   41623        2553    0.714273         0.01663   \n",
       "9         median  10.0    4036         412    0.748841        0.013262   \n",
       "10        median  25.0   10888         666    0.738934        0.013688   \n",
       "11        median  33.0   13053        1214    0.716772        0.014579   \n",
       "12        median  50.0   19966        1375    0.697079        0.016012   \n",
       "13      hot desk  10.0    6936         430    0.736435        0.018651   \n",
       "14      hot desk  25.0   17855        1383    0.687233         0.01903   \n",
       "15      hot desk  33.0   21730        1513    0.665011        0.018974   \n",
       "16      hot desk  50.0   25277        2085    0.674857        0.018627   \n",
       "17           knn  10.0    4215         404    0.748841         0.01096   \n",
       "18           knn  25.0   11246         545    0.736495         0.01395   \n",
       "19           knn  33.0   13421        1106    0.716772        0.014565   \n",
       "20           knn  50.0   19927        1236    0.697079        0.015768   \n",
       "21        forest  10.0    4166         575    0.724059         0.01879   \n",
       "22        forest  25.0   10500         707    0.699578        0.017108   \n",
       "23        forest  33.0   13510        1130    0.724179        0.016626   \n",
       "24        forest  50.0   22018        1390     0.72171        0.016545   \n",
       "\n",
       "   test_score test_score_std max depth importance importance_std  \n",
       "0    0.736318              0         4   0.843099              0  \n",
       "1    0.761194       0.019404         3   0.838728       0.031432  \n",
       "2    0.781095       0.026945         3   0.722095       0.072015  \n",
       "3    0.761194       0.028265         3    0.74166       0.052258  \n",
       "4    0.776119       0.033828         3   0.672996       0.072246  \n",
       "5    0.766169       0.016113         4   0.812194       0.061152  \n",
       "6    0.766169       0.016551         3   0.790036       0.058361  \n",
       "7    0.756219       0.022026         3   0.835679       0.062921  \n",
       "8    0.766169       0.029312         5   0.723218       0.052266  \n",
       "9    0.761194       0.013058         3   0.884156       0.066233  \n",
       "10    0.78607       0.020066         5   0.712774       0.067728  \n",
       "11   0.776119       0.027755         4   0.733069       0.067396  \n",
       "12   0.771144       0.019545         3   0.826204       0.051724  \n",
       "13   0.756219       0.022101         3   0.837916       0.069652  \n",
       "14    0.78607       0.041757         3   0.870922        0.04899  \n",
       "15   0.776119       0.042098         4   0.750631       0.048552  \n",
       "16   0.776119       0.061704         3   0.688111       0.041541  \n",
       "17   0.761194       0.011773         3   0.884156       0.040533  \n",
       "18   0.776119       0.018287         3   0.805964       0.060439  \n",
       "19   0.776119       0.028065         4   0.733069       0.064973  \n",
       "20   0.771144       0.023459         3   0.826204       0.046454  \n",
       "21   0.771144       0.021901         2        1.0         0.0765  \n",
       "22   0.766169       0.018733         4   0.777821       0.056078  \n",
       "23   0.766169       0.030941         3   0.842984       0.077231  \n",
       "24   0.776119       0.031661         3    0.82023       0.075125  "
      ]
     },
     "execution_count": 35,
     "metadata": {},
     "output_type": "execute_result"
    }
   ],
   "source": [
    "table"
   ]
  },
  {
   "cell_type": "markdown",
   "id": "1e609b78",
   "metadata": {},
   "source": [
    " "
   ]
  },
  {
   "cell_type": "markdown",
   "id": "ff34b92e",
   "metadata": {},
   "source": [
    "Рейтинг алгоритмов по восстановлению пропущенных значений"
   ]
  },
  {
   "cell_type": "code",
   "execution_count": 36,
   "id": "c68160ce",
   "metadata": {},
   "outputs": [
    {
     "data": {
      "text/html": [
       "<div>\n",
       "<style scoped>\n",
       "    .dataframe tbody tr th:only-of-type {\n",
       "        vertical-align: middle;\n",
       "    }\n",
       "\n",
       "    .dataframe tbody tr th {\n",
       "        vertical-align: top;\n",
       "    }\n",
       "\n",
       "    .dataframe thead th {\n",
       "        text-align: right;\n",
       "    }\n",
       "</style>\n",
       "<table border=\"1\" class=\"dataframe\">\n",
       "  <thead>\n",
       "    <tr style=\"text-align: right;\">\n",
       "      <th></th>\n",
       "      <th>experiment</th>\n",
       "      <th>% nan</th>\n",
       "      <th>nan_mae</th>\n",
       "      <th>nan_mae_std</th>\n",
       "      <th>train_score</th>\n",
       "      <th>train_score_std</th>\n",
       "      <th>test_score</th>\n",
       "      <th>test_score_std</th>\n",
       "      <th>max depth</th>\n",
       "      <th>importance</th>\n",
       "      <th>importance_std</th>\n",
       "    </tr>\n",
       "  </thead>\n",
       "  <tbody>\n",
       "    <tr>\n",
       "      <th>0</th>\n",
       "      <td>full dataset</td>\n",
       "      <td>0</td>\n",
       "      <td>0</td>\n",
       "      <td>0</td>\n",
       "      <td>0.746402</td>\n",
       "      <td>0</td>\n",
       "      <td>0.736318</td>\n",
       "      <td>0</td>\n",
       "      <td>4</td>\n",
       "      <td>0.843099</td>\n",
       "      <td>0</td>\n",
       "    </tr>\n",
       "    <tr>\n",
       "      <th>9</th>\n",
       "      <td>median</td>\n",
       "      <td>10.0</td>\n",
       "      <td>4036</td>\n",
       "      <td>412</td>\n",
       "      <td>0.748841</td>\n",
       "      <td>0.013262</td>\n",
       "      <td>0.761194</td>\n",
       "      <td>0.013058</td>\n",
       "      <td>3</td>\n",
       "      <td>0.884156</td>\n",
       "      <td>0.066233</td>\n",
       "    </tr>\n",
       "    <tr>\n",
       "      <th>21</th>\n",
       "      <td>forest</td>\n",
       "      <td>10.0</td>\n",
       "      <td>4166</td>\n",
       "      <td>575</td>\n",
       "      <td>0.724059</td>\n",
       "      <td>0.01879</td>\n",
       "      <td>0.771144</td>\n",
       "      <td>0.021901</td>\n",
       "      <td>2</td>\n",
       "      <td>1.0</td>\n",
       "      <td>0.0765</td>\n",
       "    </tr>\n",
       "    <tr>\n",
       "      <th>17</th>\n",
       "      <td>knn</td>\n",
       "      <td>10.0</td>\n",
       "      <td>4215</td>\n",
       "      <td>404</td>\n",
       "      <td>0.748841</td>\n",
       "      <td>0.01096</td>\n",
       "      <td>0.761194</td>\n",
       "      <td>0.011773</td>\n",
       "      <td>3</td>\n",
       "      <td>0.884156</td>\n",
       "      <td>0.040533</td>\n",
       "    </tr>\n",
       "    <tr>\n",
       "      <th>1</th>\n",
       "      <td>random</td>\n",
       "      <td>10.0</td>\n",
       "      <td>5926</td>\n",
       "      <td>780</td>\n",
       "      <td>0.731527</td>\n",
       "      <td>0.013455</td>\n",
       "      <td>0.761194</td>\n",
       "      <td>0.019404</td>\n",
       "      <td>3</td>\n",
       "      <td>0.838728</td>\n",
       "      <td>0.031432</td>\n",
       "    </tr>\n",
       "    <tr>\n",
       "      <th>13</th>\n",
       "      <td>hot desk</td>\n",
       "      <td>10.0</td>\n",
       "      <td>6936</td>\n",
       "      <td>430</td>\n",
       "      <td>0.736435</td>\n",
       "      <td>0.018651</td>\n",
       "      <td>0.756219</td>\n",
       "      <td>0.022101</td>\n",
       "      <td>3</td>\n",
       "      <td>0.837916</td>\n",
       "      <td>0.069652</td>\n",
       "    </tr>\n",
       "    <tr>\n",
       "      <th>5</th>\n",
       "      <td>value -1</td>\n",
       "      <td>10.0</td>\n",
       "      <td>11212</td>\n",
       "      <td>823</td>\n",
       "      <td>0.726528</td>\n",
       "      <td>0.017971</td>\n",
       "      <td>0.766169</td>\n",
       "      <td>0.016113</td>\n",
       "      <td>4</td>\n",
       "      <td>0.812194</td>\n",
       "      <td>0.061152</td>\n",
       "    </tr>\n",
       "  </tbody>\n",
       "</table>\n",
       "</div>"
      ],
      "text/plain": [
       "      experiment % nan nan_mae nan_mae_std train_score train_score_std  \\\n",
       "0   full dataset     0       0           0    0.746402               0   \n",
       "9         median  10.0    4036         412    0.748841        0.013262   \n",
       "21        forest  10.0    4166         575    0.724059         0.01879   \n",
       "17           knn  10.0    4215         404    0.748841         0.01096   \n",
       "1         random  10.0    5926         780    0.731527        0.013455   \n",
       "13      hot desk  10.0    6936         430    0.736435        0.018651   \n",
       "5       value -1  10.0   11212         823    0.726528        0.017971   \n",
       "\n",
       "   test_score test_score_std max depth importance importance_std  \n",
       "0    0.736318              0         4   0.843099              0  \n",
       "9    0.761194       0.013058         3   0.884156       0.066233  \n",
       "21   0.771144       0.021901         2        1.0         0.0765  \n",
       "17   0.761194       0.011773         3   0.884156       0.040533  \n",
       "1    0.761194       0.019404         3   0.838728       0.031432  \n",
       "13   0.756219       0.022101         3   0.837916       0.069652  \n",
       "5    0.766169       0.016113         4   0.812194       0.061152  "
      ]
     },
     "execution_count": 36,
     "metadata": {},
     "output_type": "execute_result"
    }
   ],
   "source": [
    "table[table['% nan'].isin([0, 10])].sort_values(by=['nan_mae'])"
   ]
  },
  {
   "cell_type": "code",
   "execution_count": 37,
   "id": "3a92f158",
   "metadata": {},
   "outputs": [
    {
     "data": {
      "text/html": [
       "<div>\n",
       "<style scoped>\n",
       "    .dataframe tbody tr th:only-of-type {\n",
       "        vertical-align: middle;\n",
       "    }\n",
       "\n",
       "    .dataframe tbody tr th {\n",
       "        vertical-align: top;\n",
       "    }\n",
       "\n",
       "    .dataframe thead th {\n",
       "        text-align: right;\n",
       "    }\n",
       "</style>\n",
       "<table border=\"1\" class=\"dataframe\">\n",
       "  <thead>\n",
       "    <tr style=\"text-align: right;\">\n",
       "      <th></th>\n",
       "      <th>experiment</th>\n",
       "      <th>% nan</th>\n",
       "      <th>nan_mae</th>\n",
       "      <th>nan_mae_std</th>\n",
       "      <th>train_score</th>\n",
       "      <th>train_score_std</th>\n",
       "      <th>test_score</th>\n",
       "      <th>test_score_std</th>\n",
       "      <th>max depth</th>\n",
       "      <th>importance</th>\n",
       "      <th>importance_std</th>\n",
       "    </tr>\n",
       "  </thead>\n",
       "  <tbody>\n",
       "    <tr>\n",
       "      <th>0</th>\n",
       "      <td>full dataset</td>\n",
       "      <td>0</td>\n",
       "      <td>0</td>\n",
       "      <td>0</td>\n",
       "      <td>0.746402</td>\n",
       "      <td>0</td>\n",
       "      <td>0.736318</td>\n",
       "      <td>0</td>\n",
       "      <td>4</td>\n",
       "      <td>0.843099</td>\n",
       "      <td>0</td>\n",
       "    </tr>\n",
       "    <tr>\n",
       "      <th>22</th>\n",
       "      <td>forest</td>\n",
       "      <td>25.0</td>\n",
       "      <td>10500</td>\n",
       "      <td>707</td>\n",
       "      <td>0.699578</td>\n",
       "      <td>0.017108</td>\n",
       "      <td>0.766169</td>\n",
       "      <td>0.018733</td>\n",
       "      <td>4</td>\n",
       "      <td>0.777821</td>\n",
       "      <td>0.056078</td>\n",
       "    </tr>\n",
       "    <tr>\n",
       "      <th>10</th>\n",
       "      <td>median</td>\n",
       "      <td>25.0</td>\n",
       "      <td>10888</td>\n",
       "      <td>666</td>\n",
       "      <td>0.738934</td>\n",
       "      <td>0.013688</td>\n",
       "      <td>0.78607</td>\n",
       "      <td>0.020066</td>\n",
       "      <td>5</td>\n",
       "      <td>0.712774</td>\n",
       "      <td>0.067728</td>\n",
       "    </tr>\n",
       "    <tr>\n",
       "      <th>18</th>\n",
       "      <td>knn</td>\n",
       "      <td>25.0</td>\n",
       "      <td>11246</td>\n",
       "      <td>545</td>\n",
       "      <td>0.736495</td>\n",
       "      <td>0.01395</td>\n",
       "      <td>0.776119</td>\n",
       "      <td>0.018287</td>\n",
       "      <td>3</td>\n",
       "      <td>0.805964</td>\n",
       "      <td>0.060439</td>\n",
       "    </tr>\n",
       "    <tr>\n",
       "      <th>2</th>\n",
       "      <td>random</td>\n",
       "      <td>25.0</td>\n",
       "      <td>14446</td>\n",
       "      <td>952</td>\n",
       "      <td>0.696899</td>\n",
       "      <td>0.022839</td>\n",
       "      <td>0.781095</td>\n",
       "      <td>0.026945</td>\n",
       "      <td>3</td>\n",
       "      <td>0.722095</td>\n",
       "      <td>0.072015</td>\n",
       "    </tr>\n",
       "    <tr>\n",
       "      <th>14</th>\n",
       "      <td>hot desk</td>\n",
       "      <td>25.0</td>\n",
       "      <td>17855</td>\n",
       "      <td>1383</td>\n",
       "      <td>0.687233</td>\n",
       "      <td>0.01903</td>\n",
       "      <td>0.78607</td>\n",
       "      <td>0.041757</td>\n",
       "      <td>3</td>\n",
       "      <td>0.870922</td>\n",
       "      <td>0.04899</td>\n",
       "    </tr>\n",
       "    <tr>\n",
       "      <th>6</th>\n",
       "      <td>value -1</td>\n",
       "      <td>25.0</td>\n",
       "      <td>24435</td>\n",
       "      <td>1577</td>\n",
       "      <td>0.684643</td>\n",
       "      <td>0.017112</td>\n",
       "      <td>0.766169</td>\n",
       "      <td>0.016551</td>\n",
       "      <td>3</td>\n",
       "      <td>0.790036</td>\n",
       "      <td>0.058361</td>\n",
       "    </tr>\n",
       "  </tbody>\n",
       "</table>\n",
       "</div>"
      ],
      "text/plain": [
       "      experiment % nan nan_mae nan_mae_std train_score train_score_std  \\\n",
       "0   full dataset     0       0           0    0.746402               0   \n",
       "22        forest  25.0   10500         707    0.699578        0.017108   \n",
       "10        median  25.0   10888         666    0.738934        0.013688   \n",
       "18           knn  25.0   11246         545    0.736495         0.01395   \n",
       "2         random  25.0   14446         952    0.696899        0.022839   \n",
       "14      hot desk  25.0   17855        1383    0.687233         0.01903   \n",
       "6       value -1  25.0   24435        1577    0.684643        0.017112   \n",
       "\n",
       "   test_score test_score_std max depth importance importance_std  \n",
       "0    0.736318              0         4   0.843099              0  \n",
       "22   0.766169       0.018733         4   0.777821       0.056078  \n",
       "10    0.78607       0.020066         5   0.712774       0.067728  \n",
       "18   0.776119       0.018287         3   0.805964       0.060439  \n",
       "2    0.781095       0.026945         3   0.722095       0.072015  \n",
       "14    0.78607       0.041757         3   0.870922        0.04899  \n",
       "6    0.766169       0.016551         3   0.790036       0.058361  "
      ]
     },
     "execution_count": 37,
     "metadata": {},
     "output_type": "execute_result"
    }
   ],
   "source": [
    "table[table['% nan'].isin([0, 25])].sort_values(by=['nan_mae'])"
   ]
  },
  {
   "cell_type": "code",
   "execution_count": 38,
   "id": "f1c33f70",
   "metadata": {},
   "outputs": [
    {
     "data": {
      "text/html": [
       "<div>\n",
       "<style scoped>\n",
       "    .dataframe tbody tr th:only-of-type {\n",
       "        vertical-align: middle;\n",
       "    }\n",
       "\n",
       "    .dataframe tbody tr th {\n",
       "        vertical-align: top;\n",
       "    }\n",
       "\n",
       "    .dataframe thead th {\n",
       "        text-align: right;\n",
       "    }\n",
       "</style>\n",
       "<table border=\"1\" class=\"dataframe\">\n",
       "  <thead>\n",
       "    <tr style=\"text-align: right;\">\n",
       "      <th></th>\n",
       "      <th>experiment</th>\n",
       "      <th>% nan</th>\n",
       "      <th>nan_mae</th>\n",
       "      <th>nan_mae_std</th>\n",
       "      <th>train_score</th>\n",
       "      <th>train_score_std</th>\n",
       "      <th>test_score</th>\n",
       "      <th>test_score_std</th>\n",
       "      <th>max depth</th>\n",
       "      <th>importance</th>\n",
       "      <th>importance_std</th>\n",
       "    </tr>\n",
       "  </thead>\n",
       "  <tbody>\n",
       "    <tr>\n",
       "      <th>0</th>\n",
       "      <td>full dataset</td>\n",
       "      <td>0</td>\n",
       "      <td>0</td>\n",
       "      <td>0</td>\n",
       "      <td>0.746402</td>\n",
       "      <td>0</td>\n",
       "      <td>0.736318</td>\n",
       "      <td>0</td>\n",
       "      <td>4</td>\n",
       "      <td>0.843099</td>\n",
       "      <td>0</td>\n",
       "    </tr>\n",
       "    <tr>\n",
       "      <th>11</th>\n",
       "      <td>median</td>\n",
       "      <td>33.0</td>\n",
       "      <td>13053</td>\n",
       "      <td>1214</td>\n",
       "      <td>0.716772</td>\n",
       "      <td>0.014579</td>\n",
       "      <td>0.776119</td>\n",
       "      <td>0.027755</td>\n",
       "      <td>4</td>\n",
       "      <td>0.733069</td>\n",
       "      <td>0.067396</td>\n",
       "    </tr>\n",
       "    <tr>\n",
       "      <th>19</th>\n",
       "      <td>knn</td>\n",
       "      <td>33.0</td>\n",
       "      <td>13421</td>\n",
       "      <td>1106</td>\n",
       "      <td>0.716772</td>\n",
       "      <td>0.014565</td>\n",
       "      <td>0.776119</td>\n",
       "      <td>0.028065</td>\n",
       "      <td>4</td>\n",
       "      <td>0.733069</td>\n",
       "      <td>0.064973</td>\n",
       "    </tr>\n",
       "    <tr>\n",
       "      <th>23</th>\n",
       "      <td>forest</td>\n",
       "      <td>33.0</td>\n",
       "      <td>13510</td>\n",
       "      <td>1130</td>\n",
       "      <td>0.724179</td>\n",
       "      <td>0.016626</td>\n",
       "      <td>0.766169</td>\n",
       "      <td>0.030941</td>\n",
       "      <td>3</td>\n",
       "      <td>0.842984</td>\n",
       "      <td>0.077231</td>\n",
       "    </tr>\n",
       "    <tr>\n",
       "      <th>3</th>\n",
       "      <td>random</td>\n",
       "      <td>33.0</td>\n",
       "      <td>17828</td>\n",
       "      <td>1594</td>\n",
       "      <td>0.69467</td>\n",
       "      <td>0.023548</td>\n",
       "      <td>0.761194</td>\n",
       "      <td>0.028265</td>\n",
       "      <td>3</td>\n",
       "      <td>0.74166</td>\n",
       "      <td>0.052258</td>\n",
       "    </tr>\n",
       "    <tr>\n",
       "      <th>15</th>\n",
       "      <td>hot desk</td>\n",
       "      <td>33.0</td>\n",
       "      <td>21730</td>\n",
       "      <td>1513</td>\n",
       "      <td>0.665011</td>\n",
       "      <td>0.018974</td>\n",
       "      <td>0.776119</td>\n",
       "      <td>0.042098</td>\n",
       "      <td>4</td>\n",
       "      <td>0.750631</td>\n",
       "      <td>0.048552</td>\n",
       "    </tr>\n",
       "    <tr>\n",
       "      <th>7</th>\n",
       "      <td>value -1</td>\n",
       "      <td>33.0</td>\n",
       "      <td>29526</td>\n",
       "      <td>2292</td>\n",
       "      <td>0.702138</td>\n",
       "      <td>0.015162</td>\n",
       "      <td>0.756219</td>\n",
       "      <td>0.022026</td>\n",
       "      <td>3</td>\n",
       "      <td>0.835679</td>\n",
       "      <td>0.062921</td>\n",
       "    </tr>\n",
       "  </tbody>\n",
       "</table>\n",
       "</div>"
      ],
      "text/plain": [
       "      experiment % nan nan_mae nan_mae_std train_score train_score_std  \\\n",
       "0   full dataset     0       0           0    0.746402               0   \n",
       "11        median  33.0   13053        1214    0.716772        0.014579   \n",
       "19           knn  33.0   13421        1106    0.716772        0.014565   \n",
       "23        forest  33.0   13510        1130    0.724179        0.016626   \n",
       "3         random  33.0   17828        1594     0.69467        0.023548   \n",
       "15      hot desk  33.0   21730        1513    0.665011        0.018974   \n",
       "7       value -1  33.0   29526        2292    0.702138        0.015162   \n",
       "\n",
       "   test_score test_score_std max depth importance importance_std  \n",
       "0    0.736318              0         4   0.843099              0  \n",
       "11   0.776119       0.027755         4   0.733069       0.067396  \n",
       "19   0.776119       0.028065         4   0.733069       0.064973  \n",
       "23   0.766169       0.030941         3   0.842984       0.077231  \n",
       "3    0.761194       0.028265         3    0.74166       0.052258  \n",
       "15   0.776119       0.042098         4   0.750631       0.048552  \n",
       "7    0.756219       0.022026         3   0.835679       0.062921  "
      ]
     },
     "execution_count": 38,
     "metadata": {},
     "output_type": "execute_result"
    }
   ],
   "source": [
    "table[table['% nan'].isin([0, 33])].sort_values(by=['nan_mae'])"
   ]
  },
  {
   "cell_type": "code",
   "execution_count": 39,
   "id": "0fd08e95",
   "metadata": {},
   "outputs": [
    {
     "data": {
      "text/html": [
       "<div>\n",
       "<style scoped>\n",
       "    .dataframe tbody tr th:only-of-type {\n",
       "        vertical-align: middle;\n",
       "    }\n",
       "\n",
       "    .dataframe tbody tr th {\n",
       "        vertical-align: top;\n",
       "    }\n",
       "\n",
       "    .dataframe thead th {\n",
       "        text-align: right;\n",
       "    }\n",
       "</style>\n",
       "<table border=\"1\" class=\"dataframe\">\n",
       "  <thead>\n",
       "    <tr style=\"text-align: right;\">\n",
       "      <th></th>\n",
       "      <th>experiment</th>\n",
       "      <th>% nan</th>\n",
       "      <th>nan_mae</th>\n",
       "      <th>nan_mae_std</th>\n",
       "      <th>train_score</th>\n",
       "      <th>train_score_std</th>\n",
       "      <th>test_score</th>\n",
       "      <th>test_score_std</th>\n",
       "      <th>max depth</th>\n",
       "      <th>importance</th>\n",
       "      <th>importance_std</th>\n",
       "    </tr>\n",
       "  </thead>\n",
       "  <tbody>\n",
       "    <tr>\n",
       "      <th>0</th>\n",
       "      <td>full dataset</td>\n",
       "      <td>0</td>\n",
       "      <td>0</td>\n",
       "      <td>0</td>\n",
       "      <td>0.746402</td>\n",
       "      <td>0</td>\n",
       "      <td>0.736318</td>\n",
       "      <td>0</td>\n",
       "      <td>4</td>\n",
       "      <td>0.843099</td>\n",
       "      <td>0</td>\n",
       "    </tr>\n",
       "    <tr>\n",
       "      <th>20</th>\n",
       "      <td>knn</td>\n",
       "      <td>50.0</td>\n",
       "      <td>19927</td>\n",
       "      <td>1236</td>\n",
       "      <td>0.697079</td>\n",
       "      <td>0.015768</td>\n",
       "      <td>0.771144</td>\n",
       "      <td>0.023459</td>\n",
       "      <td>3</td>\n",
       "      <td>0.826204</td>\n",
       "      <td>0.046454</td>\n",
       "    </tr>\n",
       "    <tr>\n",
       "      <th>12</th>\n",
       "      <td>median</td>\n",
       "      <td>50.0</td>\n",
       "      <td>19966</td>\n",
       "      <td>1375</td>\n",
       "      <td>0.697079</td>\n",
       "      <td>0.016012</td>\n",
       "      <td>0.771144</td>\n",
       "      <td>0.019545</td>\n",
       "      <td>3</td>\n",
       "      <td>0.826204</td>\n",
       "      <td>0.051724</td>\n",
       "    </tr>\n",
       "    <tr>\n",
       "      <th>24</th>\n",
       "      <td>forest</td>\n",
       "      <td>50.0</td>\n",
       "      <td>22018</td>\n",
       "      <td>1390</td>\n",
       "      <td>0.72171</td>\n",
       "      <td>0.016545</td>\n",
       "      <td>0.776119</td>\n",
       "      <td>0.031661</td>\n",
       "      <td>3</td>\n",
       "      <td>0.82023</td>\n",
       "      <td>0.075125</td>\n",
       "    </tr>\n",
       "    <tr>\n",
       "      <th>16</th>\n",
       "      <td>hot desk</td>\n",
       "      <td>50.0</td>\n",
       "      <td>25277</td>\n",
       "      <td>2085</td>\n",
       "      <td>0.674857</td>\n",
       "      <td>0.018627</td>\n",
       "      <td>0.776119</td>\n",
       "      <td>0.061704</td>\n",
       "      <td>3</td>\n",
       "      <td>0.688111</td>\n",
       "      <td>0.041541</td>\n",
       "    </tr>\n",
       "    <tr>\n",
       "      <th>4</th>\n",
       "      <td>random</td>\n",
       "      <td>50.0</td>\n",
       "      <td>28725</td>\n",
       "      <td>2298</td>\n",
       "      <td>0.697079</td>\n",
       "      <td>0.021241</td>\n",
       "      <td>0.776119</td>\n",
       "      <td>0.033828</td>\n",
       "      <td>3</td>\n",
       "      <td>0.672996</td>\n",
       "      <td>0.072246</td>\n",
       "    </tr>\n",
       "    <tr>\n",
       "      <th>8</th>\n",
       "      <td>value -1</td>\n",
       "      <td>50.0</td>\n",
       "      <td>41623</td>\n",
       "      <td>2553</td>\n",
       "      <td>0.714273</td>\n",
       "      <td>0.01663</td>\n",
       "      <td>0.766169</td>\n",
       "      <td>0.029312</td>\n",
       "      <td>5</td>\n",
       "      <td>0.723218</td>\n",
       "      <td>0.052266</td>\n",
       "    </tr>\n",
       "  </tbody>\n",
       "</table>\n",
       "</div>"
      ],
      "text/plain": [
       "      experiment % nan nan_mae nan_mae_std train_score train_score_std  \\\n",
       "0   full dataset     0       0           0    0.746402               0   \n",
       "20           knn  50.0   19927        1236    0.697079        0.015768   \n",
       "12        median  50.0   19966        1375    0.697079        0.016012   \n",
       "24        forest  50.0   22018        1390     0.72171        0.016545   \n",
       "16      hot desk  50.0   25277        2085    0.674857        0.018627   \n",
       "4         random  50.0   28725        2298    0.697079        0.021241   \n",
       "8       value -1  50.0   41623        2553    0.714273         0.01663   \n",
       "\n",
       "   test_score test_score_std max depth importance importance_std  \n",
       "0    0.736318              0         4   0.843099              0  \n",
       "20   0.771144       0.023459         3   0.826204       0.046454  \n",
       "12   0.771144       0.019545         3   0.826204       0.051724  \n",
       "24   0.776119       0.031661         3    0.82023       0.075125  \n",
       "16   0.776119       0.061704         3   0.688111       0.041541  \n",
       "4    0.776119       0.033828         3   0.672996       0.072246  \n",
       "8    0.766169       0.029312         5   0.723218       0.052266  "
      ]
     },
     "execution_count": 39,
     "metadata": {},
     "output_type": "execute_result"
    }
   ],
   "source": [
    "table[table['% nan'].isin([0, 50])].sort_values(by=['nan_mae'])"
   ]
  },
  {
   "cell_type": "markdown",
   "id": "49f1bb34",
   "metadata": {},
   "source": [
    " "
   ]
  },
  {
   "cell_type": "markdown",
   "id": "3e5afe55",
   "metadata": {},
   "source": [
    "**Гипотеза 1**\n",
    "Восстановить данные с большим количеством пропусков сложнее "
   ]
  },
  {
   "cell_type": "code",
   "execution_count": 40,
   "id": "a6d43bdb",
   "metadata": {},
   "outputs": [
    {
     "data": {
      "text/html": [
       "<div>\n",
       "<style scoped>\n",
       "    .dataframe tbody tr th:only-of-type {\n",
       "        vertical-align: middle;\n",
       "    }\n",
       "\n",
       "    .dataframe tbody tr th {\n",
       "        vertical-align: top;\n",
       "    }\n",
       "\n",
       "    .dataframe thead th {\n",
       "        text-align: right;\n",
       "    }\n",
       "</style>\n",
       "<table border=\"1\" class=\"dataframe\">\n",
       "  <thead>\n",
       "    <tr style=\"text-align: right;\">\n",
       "      <th></th>\n",
       "      <th>nan_mae</th>\n",
       "      <th>nan_mae_std</th>\n",
       "    </tr>\n",
       "    <tr>\n",
       "      <th>% nan</th>\n",
       "      <th></th>\n",
       "      <th></th>\n",
       "    </tr>\n",
       "  </thead>\n",
       "  <tbody>\n",
       "    <tr>\n",
       "      <th>0.0</th>\n",
       "      <td>0.000000</td>\n",
       "      <td>0.000000</td>\n",
       "    </tr>\n",
       "    <tr>\n",
       "      <th>10.0</th>\n",
       "      <td>6081.833333</td>\n",
       "      <td>570.666667</td>\n",
       "    </tr>\n",
       "    <tr>\n",
       "      <th>25.0</th>\n",
       "      <td>14895.000000</td>\n",
       "      <td>971.666667</td>\n",
       "    </tr>\n",
       "    <tr>\n",
       "      <th>33.0</th>\n",
       "      <td>18178.000000</td>\n",
       "      <td>1474.833333</td>\n",
       "    </tr>\n",
       "    <tr>\n",
       "      <th>50.0</th>\n",
       "      <td>26256.000000</td>\n",
       "      <td>1822.833333</td>\n",
       "    </tr>\n",
       "  </tbody>\n",
       "</table>\n",
       "</div>"
      ],
      "text/plain": [
       "            nan_mae  nan_mae_std\n",
       "% nan                           \n",
       "0.0        0.000000     0.000000\n",
       "10.0    6081.833333   570.666667\n",
       "25.0   14895.000000   971.666667\n",
       "33.0   18178.000000  1474.833333\n",
       "50.0   26256.000000  1822.833333"
      ]
     },
     "execution_count": 40,
     "metadata": {},
     "output_type": "execute_result"
    }
   ],
   "source": [
    "table.groupby(by='% nan').mean()[['nan_mae', 'nan_mae_std']].sort_values(by=['nan_mae'])"
   ]
  },
  {
   "cell_type": "markdown",
   "id": "5bdf59fd",
   "metadata": {},
   "source": [
    " "
   ]
  },
  {
   "cell_type": "markdown",
   "id": "d38cc695",
   "metadata": {},
   "source": [
    "**Гипотеза 2**\n",
    "Алгоритмы машинного обучения должны восстанавливать данные лучше, чем заполнение медианой "
   ]
  },
  {
   "cell_type": "code",
   "execution_count": 41,
   "id": "a0600988",
   "metadata": {},
   "outputs": [
    {
     "data": {
      "text/html": [
       "<div>\n",
       "<style scoped>\n",
       "    .dataframe tbody tr th:only-of-type {\n",
       "        vertical-align: middle;\n",
       "    }\n",
       "\n",
       "    .dataframe tbody tr th {\n",
       "        vertical-align: top;\n",
       "    }\n",
       "\n",
       "    .dataframe thead th {\n",
       "        text-align: right;\n",
       "    }\n",
       "</style>\n",
       "<table border=\"1\" class=\"dataframe\">\n",
       "  <thead>\n",
       "    <tr style=\"text-align: right;\">\n",
       "      <th></th>\n",
       "      <th>nan_mae</th>\n",
       "      <th>nan_mae_std</th>\n",
       "    </tr>\n",
       "    <tr>\n",
       "      <th>experiment</th>\n",
       "      <th></th>\n",
       "      <th></th>\n",
       "    </tr>\n",
       "  </thead>\n",
       "  <tbody>\n",
       "    <tr>\n",
       "      <th>full dataset</th>\n",
       "      <td>0.00</td>\n",
       "      <td>0.00</td>\n",
       "    </tr>\n",
       "    <tr>\n",
       "      <th>median</th>\n",
       "      <td>11985.75</td>\n",
       "      <td>916.75</td>\n",
       "    </tr>\n",
       "    <tr>\n",
       "      <th>knn</th>\n",
       "      <td>12202.25</td>\n",
       "      <td>822.75</td>\n",
       "    </tr>\n",
       "    <tr>\n",
       "      <th>forest</th>\n",
       "      <td>12548.50</td>\n",
       "      <td>950.50</td>\n",
       "    </tr>\n",
       "    <tr>\n",
       "      <th>random</th>\n",
       "      <td>16731.25</td>\n",
       "      <td>1406.00</td>\n",
       "    </tr>\n",
       "    <tr>\n",
       "      <th>hot desk</th>\n",
       "      <td>17949.50</td>\n",
       "      <td>1352.75</td>\n",
       "    </tr>\n",
       "    <tr>\n",
       "      <th>value -1</th>\n",
       "      <td>26699.00</td>\n",
       "      <td>1811.25</td>\n",
       "    </tr>\n",
       "  </tbody>\n",
       "</table>\n",
       "</div>"
      ],
      "text/plain": [
       "               nan_mae  nan_mae_std\n",
       "experiment                         \n",
       "full dataset      0.00         0.00\n",
       "median        11985.75       916.75\n",
       "knn           12202.25       822.75\n",
       "forest        12548.50       950.50\n",
       "random        16731.25      1406.00\n",
       "hot desk      17949.50      1352.75\n",
       "value -1      26699.00      1811.25"
      ]
     },
     "execution_count": 41,
     "metadata": {},
     "output_type": "execute_result"
    }
   ],
   "source": [
    "table.groupby(by='experiment').mean()[['nan_mae', 'nan_mae_std']].sort_values(by=['nan_mae'])"
   ]
  },
  {
   "cell_type": "markdown",
   "id": "7cff472f",
   "metadata": {},
   "source": [
    " "
   ]
  },
  {
   "cell_type": "markdown",
   "id": "76d07390",
   "metadata": {},
   "source": [
    "**Гипотеза 3**\n",
    "Качество предсказаний, основанные на восстановленных данных, должно быть хуже"
   ]
  },
  {
   "cell_type": "code",
   "execution_count": 42,
   "id": "88c998e4",
   "metadata": {},
   "outputs": [],
   "source": [
    "base = table[table['experiment'] == 'full dataset']"
   ]
  },
  {
   "cell_type": "code",
   "execution_count": 43,
   "id": "fb8da628",
   "metadata": {},
   "outputs": [
    {
     "data": {
      "text/html": [
       "<div>\n",
       "<style scoped>\n",
       "    .dataframe tbody tr th:only-of-type {\n",
       "        vertical-align: middle;\n",
       "    }\n",
       "\n",
       "    .dataframe tbody tr th {\n",
       "        vertical-align: top;\n",
       "    }\n",
       "\n",
       "    .dataframe thead th {\n",
       "        text-align: right;\n",
       "    }\n",
       "</style>\n",
       "<table border=\"1\" class=\"dataframe\">\n",
       "  <thead>\n",
       "    <tr style=\"text-align: right;\">\n",
       "      <th></th>\n",
       "      <th>experiment</th>\n",
       "      <th>% nan</th>\n",
       "      <th>nan_mae</th>\n",
       "      <th>nan_mae_std</th>\n",
       "      <th>train_score</th>\n",
       "      <th>train_score_std</th>\n",
       "      <th>test_score</th>\n",
       "      <th>test_score_std</th>\n",
       "      <th>max depth</th>\n",
       "      <th>importance</th>\n",
       "      <th>importance_std</th>\n",
       "    </tr>\n",
       "  </thead>\n",
       "  <tbody>\n",
       "    <tr>\n",
       "      <th>9</th>\n",
       "      <td>median</td>\n",
       "      <td>10.0</td>\n",
       "      <td>4036</td>\n",
       "      <td>412</td>\n",
       "      <td>0.748841</td>\n",
       "      <td>0.013262</td>\n",
       "      <td>0.761194</td>\n",
       "      <td>0.013058</td>\n",
       "      <td>3</td>\n",
       "      <td>0.884156</td>\n",
       "      <td>0.066233</td>\n",
       "    </tr>\n",
       "    <tr>\n",
       "      <th>17</th>\n",
       "      <td>knn</td>\n",
       "      <td>10.0</td>\n",
       "      <td>4215</td>\n",
       "      <td>404</td>\n",
       "      <td>0.748841</td>\n",
       "      <td>0.01096</td>\n",
       "      <td>0.761194</td>\n",
       "      <td>0.011773</td>\n",
       "      <td>3</td>\n",
       "      <td>0.884156</td>\n",
       "      <td>0.040533</td>\n",
       "    </tr>\n",
       "  </tbody>\n",
       "</table>\n",
       "</div>"
      ],
      "text/plain": [
       "   experiment % nan nan_mae nan_mae_std train_score train_score_std  \\\n",
       "9      median  10.0    4036         412    0.748841        0.013262   \n",
       "17        knn  10.0    4215         404    0.748841         0.01096   \n",
       "\n",
       "   test_score test_score_std max depth importance importance_std  \n",
       "9    0.761194       0.013058         3   0.884156       0.066233  \n",
       "17   0.761194       0.011773         3   0.884156       0.040533  "
      ]
     },
     "execution_count": 43,
     "metadata": {},
     "output_type": "execute_result"
    }
   ],
   "source": [
    "table[(table['train_score'] > base['train_score'].iloc[0])] "
   ]
  },
  {
   "cell_type": "code",
   "execution_count": 44,
   "id": "3c40be44",
   "metadata": {},
   "outputs": [
    {
     "data": {
      "text/plain": [
       "24"
      ]
     },
     "execution_count": 44,
     "metadata": {},
     "output_type": "execute_result"
    }
   ],
   "source": [
    "table[(table['test_score'] > base['test_score'].iloc[0])].shape[0]"
   ]
  },
  {
   "cell_type": "markdown",
   "id": "207cb11a",
   "metadata": {},
   "source": [
    " "
   ]
  },
  {
   "cell_type": "markdown",
   "id": "78fe679f",
   "metadata": {},
   "source": [
    "**Гипотеза 4**\n",
    "Чем больше было пропущенных значений в исходном датасете, тем хуже качество предсказаний (DecisionTreeClassifier)"
   ]
  },
  {
   "cell_type": "code",
   "execution_count": 45,
   "id": "ce4d12aa",
   "metadata": {},
   "outputs": [
    {
     "data": {
      "text/html": [
       "<div>\n",
       "<style scoped>\n",
       "    .dataframe tbody tr th:only-of-type {\n",
       "        vertical-align: middle;\n",
       "    }\n",
       "\n",
       "    .dataframe tbody tr th {\n",
       "        vertical-align: top;\n",
       "    }\n",
       "\n",
       "    .dataframe thead th {\n",
       "        text-align: right;\n",
       "    }\n",
       "</style>\n",
       "<table border=\"1\" class=\"dataframe\">\n",
       "  <thead>\n",
       "    <tr style=\"text-align: right;\">\n",
       "      <th></th>\n",
       "      <th>train_score</th>\n",
       "      <th>test_score</th>\n",
       "    </tr>\n",
       "    <tr>\n",
       "      <th>% nan</th>\n",
       "      <th></th>\n",
       "      <th></th>\n",
       "    </tr>\n",
       "  </thead>\n",
       "  <tbody>\n",
       "    <tr>\n",
       "      <th>0.0</th>\n",
       "      <td>0.746402</td>\n",
       "      <td>0.736318</td>\n",
       "    </tr>\n",
       "    <tr>\n",
       "      <th>10.0</th>\n",
       "      <td>0.736038</td>\n",
       "      <td>0.762852</td>\n",
       "    </tr>\n",
       "    <tr>\n",
       "      <th>25.0</th>\n",
       "      <td>0.707297</td>\n",
       "      <td>0.776949</td>\n",
       "    </tr>\n",
       "    <tr>\n",
       "      <th>33.0</th>\n",
       "      <td>0.703257</td>\n",
       "      <td>0.768657</td>\n",
       "    </tr>\n",
       "    <tr>\n",
       "      <th>50.0</th>\n",
       "      <td>0.700346</td>\n",
       "      <td>0.772803</td>\n",
       "    </tr>\n",
       "  </tbody>\n",
       "</table>\n",
       "</div>"
      ],
      "text/plain": [
       "       train_score  test_score\n",
       "% nan                         \n",
       "0.0       0.746402    0.736318\n",
       "10.0      0.736038    0.762852\n",
       "25.0      0.707297    0.776949\n",
       "33.0      0.703257    0.768657\n",
       "50.0      0.700346    0.772803"
      ]
     },
     "execution_count": 45,
     "metadata": {},
     "output_type": "execute_result"
    }
   ],
   "source": [
    "table.groupby(by='% nan').mean()[['train_score', 'test_score']]"
   ]
  },
  {
   "cell_type": "markdown",
   "id": "fdcb8591",
   "metadata": {},
   "source": [
    " "
   ]
  },
  {
   "cell_type": "markdown",
   "id": "fd554002",
   "metadata": {},
   "source": [
    "**Гипотеза 5**\n",
    "Скор на тестовом наборе данных должен быть ниже "
   ]
  },
  {
   "cell_type": "code",
   "execution_count": 46,
   "id": "8b6b9d53",
   "metadata": {},
   "outputs": [
    {
     "data": {
      "text/html": [
       "<div>\n",
       "<style scoped>\n",
       "    .dataframe tbody tr th:only-of-type {\n",
       "        vertical-align: middle;\n",
       "    }\n",
       "\n",
       "    .dataframe tbody tr th {\n",
       "        vertical-align: top;\n",
       "    }\n",
       "\n",
       "    .dataframe thead th {\n",
       "        text-align: right;\n",
       "    }\n",
       "</style>\n",
       "<table border=\"1\" class=\"dataframe\">\n",
       "  <thead>\n",
       "    <tr style=\"text-align: right;\">\n",
       "      <th></th>\n",
       "      <th>experiment</th>\n",
       "      <th>% nan</th>\n",
       "      <th>nan_mae</th>\n",
       "      <th>nan_mae_std</th>\n",
       "      <th>train_score</th>\n",
       "      <th>train_score_std</th>\n",
       "      <th>test_score</th>\n",
       "      <th>test_score_std</th>\n",
       "      <th>max depth</th>\n",
       "      <th>importance</th>\n",
       "      <th>importance_std</th>\n",
       "    </tr>\n",
       "  </thead>\n",
       "  <tbody>\n",
       "    <tr>\n",
       "      <th>0</th>\n",
       "      <td>full dataset</td>\n",
       "      <td>0</td>\n",
       "      <td>0</td>\n",
       "      <td>0</td>\n",
       "      <td>0.746402</td>\n",
       "      <td>0</td>\n",
       "      <td>0.736318</td>\n",
       "      <td>0</td>\n",
       "      <td>4</td>\n",
       "      <td>0.843099</td>\n",
       "      <td>0</td>\n",
       "    </tr>\n",
       "  </tbody>\n",
       "</table>\n",
       "</div>"
      ],
      "text/plain": [
       "     experiment % nan nan_mae nan_mae_std train_score train_score_std  \\\n",
       "0  full dataset     0       0           0    0.746402               0   \n",
       "\n",
       "  test_score test_score_std max depth importance importance_std  \n",
       "0   0.736318              0         4   0.843099              0  "
      ]
     },
     "execution_count": 46,
     "metadata": {},
     "output_type": "execute_result"
    }
   ],
   "source": [
    "table[table['test_score'] < table['train_score']]"
   ]
  },
  {
   "cell_type": "markdown",
   "id": "09bee656",
   "metadata": {},
   "source": [
    " "
   ]
  },
  {
   "cell_type": "markdown",
   "id": "74b78675",
   "metadata": {},
   "source": [
    "Итак, результаты. Деревья всегда имели небольшую глубину, поэтому модели должны иметь хорошую обобщающую способность. Заполнение значением -1 показало наихудший результат. Заполнение медианой приближает данные немного хуже, чем алогитмы машинного обучения (в нашем случае KNN и Forest), но тем не менее показывает достаточно хороший результат. Особенность датасета - предсказания, основанные на восстановленных данных на тесте показывают результат лучше, чем на трейне и чем на baseline. Скорее всего, это связано с конкретной разбивкой данных на трейн и тест, где-то закрались выбросы. "
   ]
  },
  {
   "cell_type": "markdown",
   "id": "23858997",
   "metadata": {},
   "source": [
    " "
   ]
  },
  {
   "cell_type": "markdown",
   "id": "73355e0b",
   "metadata": {},
   "source": [
    " "
   ]
  },
  {
   "cell_type": "markdown",
   "id": "78e46235",
   "metadata": {},
   "source": [
    "## Задачи "
   ]
  },
  {
   "cell_type": "markdown",
   "id": "0eaec907",
   "metadata": {},
   "source": [
    "1. Сделать красивые и говорящие названия переменных \n",
    "2. Добавить визуализацию для метрик \n",
    "3. Посмотреть на feature importance фичи salary_in_usd + \n",
    "4. В рандомную функцию добавить библиотечные методы\n",
    "5. Оптимизировать итоговый луп \n",
    "6. После заполнения пропусков добавить график с распределением зп + описательные статистики \n",
    "7. Уточнить расчет mean_absolute_error (считать только те строки, где были пропуски) \n",
    "8. Убрать вывод iteration  \n",
    "9. Добавить в отчет \"уверенность\" алгоритмов\n",
    "10. Добавить описание каждого алгоритма \n",
    "11. Проверить данные трейн\\тест на их состав + выбросы\n",
    "12. Добавить в арсенал новые методы (+ уточнить, почему datawig не установился) \n",
    "13. Добавить визуализацию дерева +\n",
    "14. Перевести на английский\n",
    "15. Попробовать модифицировать медиану (разбить на группы, в каждой группе своя медиана)"
   ]
  },
  {
   "cell_type": "markdown",
   "id": "19fbf582",
   "metadata": {},
   "source": [
    " "
   ]
  }
 ],
 "metadata": {
  "kernelspec": {
   "display_name": "Python 3 (ipykernel)",
   "language": "python",
   "name": "python3"
  },
  "language_info": {
   "codemirror_mode": {
    "name": "ipython",
    "version": 3
   },
   "file_extension": ".py",
   "mimetype": "text/x-python",
   "name": "python",
   "nbconvert_exporter": "python",
   "pygments_lexer": "ipython3",
   "version": "3.9.12"
  }
 },
 "nbformat": 4,
 "nbformat_minor": 5
}
